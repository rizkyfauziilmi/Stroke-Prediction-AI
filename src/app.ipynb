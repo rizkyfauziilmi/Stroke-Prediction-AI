{
 "cells": [
  {
   "cell_type": "code",
   "execution_count": 1,
   "metadata": {},
   "outputs": [
    {
     "name": "stdout",
     "output_type": "stream",
     "text": [
      "Requirement already satisfied: gradio in /home/rizkyfauziilmi/Documents/Code/Learn/Kuliah/Stroke Prediction AI/.conda/lib/python3.11/site-packages (5.9.0)\n",
      "Requirement already satisfied: joblib in /home/rizkyfauziilmi/Documents/Code/Learn/Kuliah/Stroke Prediction AI/.conda/lib/python3.11/site-packages (1.3.2)\n",
      "Requirement already satisfied: numpy in /home/rizkyfauziilmi/Documents/Code/Learn/Kuliah/Stroke Prediction AI/.conda/lib/python3.11/site-packages (1.26.4)\n",
      "Requirement already satisfied: aiofiles<24.0,>=22.0 in /home/rizkyfauziilmi/Documents/Code/Learn/Kuliah/Stroke Prediction AI/.conda/lib/python3.11/site-packages (from gradio) (23.2.1)\n",
      "Requirement already satisfied: anyio<5.0,>=3.0 in /home/rizkyfauziilmi/Documents/Code/Learn/Kuliah/Stroke Prediction AI/.conda/lib/python3.11/site-packages (from gradio) (4.7.0)\n",
      "Requirement already satisfied: fastapi<1.0,>=0.115.2 in /home/rizkyfauziilmi/Documents/Code/Learn/Kuliah/Stroke Prediction AI/.conda/lib/python3.11/site-packages (from gradio) (0.115.6)\n",
      "Requirement already satisfied: ffmpy in /home/rizkyfauziilmi/Documents/Code/Learn/Kuliah/Stroke Prediction AI/.conda/lib/python3.11/site-packages (from gradio) (0.4.0)\n",
      "Requirement already satisfied: gradio-client==1.5.2 in /home/rizkyfauziilmi/Documents/Code/Learn/Kuliah/Stroke Prediction AI/.conda/lib/python3.11/site-packages (from gradio) (1.5.2)\n",
      "Requirement already satisfied: httpx>=0.24.1 in /home/rizkyfauziilmi/Documents/Code/Learn/Kuliah/Stroke Prediction AI/.conda/lib/python3.11/site-packages (from gradio) (0.28.1)\n",
      "Requirement already satisfied: huggingface-hub>=0.25.1 in /home/rizkyfauziilmi/Documents/Code/Learn/Kuliah/Stroke Prediction AI/.conda/lib/python3.11/site-packages (from gradio) (0.26.5)\n",
      "Requirement already satisfied: jinja2<4.0 in /home/rizkyfauziilmi/Documents/Code/Learn/Kuliah/Stroke Prediction AI/.conda/lib/python3.11/site-packages (from gradio) (3.1.4)\n",
      "Requirement already satisfied: markupsafe~=2.0 in /home/rizkyfauziilmi/Documents/Code/Learn/Kuliah/Stroke Prediction AI/.conda/lib/python3.11/site-packages (from gradio) (2.1.5)\n",
      "Requirement already satisfied: orjson~=3.0 in /home/rizkyfauziilmi/Documents/Code/Learn/Kuliah/Stroke Prediction AI/.conda/lib/python3.11/site-packages (from gradio) (3.10.12)\n",
      "Requirement already satisfied: packaging in /home/rizkyfauziilmi/Documents/Code/Learn/Kuliah/Stroke Prediction AI/.conda/lib/python3.11/site-packages (from gradio) (24.1)\n",
      "Requirement already satisfied: pandas<3.0,>=1.0 in /home/rizkyfauziilmi/Documents/Code/Learn/Kuliah/Stroke Prediction AI/.conda/lib/python3.11/site-packages (from gradio) (2.1.4)\n",
      "Requirement already satisfied: pillow<12.0,>=8.0 in /home/rizkyfauziilmi/Documents/Code/Learn/Kuliah/Stroke Prediction AI/.conda/lib/python3.11/site-packages (from gradio) (11.0.0)\n",
      "Requirement already satisfied: pydantic>=2.0 in /home/rizkyfauziilmi/Documents/Code/Learn/Kuliah/Stroke Prediction AI/.conda/lib/python3.11/site-packages (from gradio) (2.10.3)\n",
      "Requirement already satisfied: pydub in /home/rizkyfauziilmi/Documents/Code/Learn/Kuliah/Stroke Prediction AI/.conda/lib/python3.11/site-packages (from gradio) (0.25.1)\n",
      "Requirement already satisfied: python-multipart>=0.0.18 in /home/rizkyfauziilmi/Documents/Code/Learn/Kuliah/Stroke Prediction AI/.conda/lib/python3.11/site-packages (from gradio) (0.0.19)\n",
      "Requirement already satisfied: pyyaml<7.0,>=5.0 in /home/rizkyfauziilmi/Documents/Code/Learn/Kuliah/Stroke Prediction AI/.conda/lib/python3.11/site-packages (from gradio) (6.0.2)\n",
      "Requirement already satisfied: ruff>=0.2.2 in /home/rizkyfauziilmi/Documents/Code/Learn/Kuliah/Stroke Prediction AI/.conda/lib/python3.11/site-packages (from gradio) (0.8.3)\n",
      "Requirement already satisfied: safehttpx<0.2.0,>=0.1.6 in /home/rizkyfauziilmi/Documents/Code/Learn/Kuliah/Stroke Prediction AI/.conda/lib/python3.11/site-packages (from gradio) (0.1.6)\n",
      "Requirement already satisfied: semantic-version~=2.0 in /home/rizkyfauziilmi/Documents/Code/Learn/Kuliah/Stroke Prediction AI/.conda/lib/python3.11/site-packages (from gradio) (2.10.0)\n",
      "Requirement already satisfied: starlette<1.0,>=0.40.0 in /home/rizkyfauziilmi/Documents/Code/Learn/Kuliah/Stroke Prediction AI/.conda/lib/python3.11/site-packages (from gradio) (0.41.3)\n",
      "Requirement already satisfied: tomlkit<0.14.0,>=0.12.0 in /home/rizkyfauziilmi/Documents/Code/Learn/Kuliah/Stroke Prediction AI/.conda/lib/python3.11/site-packages (from gradio) (0.13.2)\n",
      "Requirement already satisfied: typer<1.0,>=0.12 in /home/rizkyfauziilmi/Documents/Code/Learn/Kuliah/Stroke Prediction AI/.conda/lib/python3.11/site-packages (from gradio) (0.15.1)\n",
      "Requirement already satisfied: typing-extensions~=4.0 in /home/rizkyfauziilmi/Documents/Code/Learn/Kuliah/Stroke Prediction AI/.conda/lib/python3.11/site-packages (from gradio) (4.12.2)\n",
      "Requirement already satisfied: uvicorn>=0.14.0 in /home/rizkyfauziilmi/Documents/Code/Learn/Kuliah/Stroke Prediction AI/.conda/lib/python3.11/site-packages (from gradio) (0.34.0)\n",
      "Requirement already satisfied: fsspec in /home/rizkyfauziilmi/Documents/Code/Learn/Kuliah/Stroke Prediction AI/.conda/lib/python3.11/site-packages (from gradio-client==1.5.2->gradio) (2024.10.0)\n",
      "Requirement already satisfied: websockets<15.0,>=10.0 in /home/rizkyfauziilmi/Documents/Code/Learn/Kuliah/Stroke Prediction AI/.conda/lib/python3.11/site-packages (from gradio-client==1.5.2->gradio) (14.1)\n",
      "Requirement already satisfied: idna>=2.8 in /home/rizkyfauziilmi/Documents/Code/Learn/Kuliah/Stroke Prediction AI/.conda/lib/python3.11/site-packages (from anyio<5.0,>=3.0->gradio) (3.10)\n",
      "Requirement already satisfied: sniffio>=1.1 in /home/rizkyfauziilmi/Documents/Code/Learn/Kuliah/Stroke Prediction AI/.conda/lib/python3.11/site-packages (from anyio<5.0,>=3.0->gradio) (1.3.1)\n",
      "Requirement already satisfied: certifi in /home/rizkyfauziilmi/Documents/Code/Learn/Kuliah/Stroke Prediction AI/.conda/lib/python3.11/site-packages (from httpx>=0.24.1->gradio) (2024.12.14)\n",
      "Requirement already satisfied: httpcore==1.* in /home/rizkyfauziilmi/Documents/Code/Learn/Kuliah/Stroke Prediction AI/.conda/lib/python3.11/site-packages (from httpx>=0.24.1->gradio) (1.0.7)\n",
      "Requirement already satisfied: h11<0.15,>=0.13 in /home/rizkyfauziilmi/Documents/Code/Learn/Kuliah/Stroke Prediction AI/.conda/lib/python3.11/site-packages (from httpcore==1.*->httpx>=0.24.1->gradio) (0.14.0)\n",
      "Requirement already satisfied: filelock in /home/rizkyfauziilmi/Documents/Code/Learn/Kuliah/Stroke Prediction AI/.conda/lib/python3.11/site-packages (from huggingface-hub>=0.25.1->gradio) (3.16.1)\n",
      "Requirement already satisfied: requests in /home/rizkyfauziilmi/Documents/Code/Learn/Kuliah/Stroke Prediction AI/.conda/lib/python3.11/site-packages (from huggingface-hub>=0.25.1->gradio) (2.32.3)\n",
      "Requirement already satisfied: tqdm>=4.42.1 in /home/rizkyfauziilmi/Documents/Code/Learn/Kuliah/Stroke Prediction AI/.conda/lib/python3.11/site-packages (from huggingface-hub>=0.25.1->gradio) (4.67.1)\n",
      "Requirement already satisfied: python-dateutil>=2.8.2 in /home/rizkyfauziilmi/Documents/Code/Learn/Kuliah/Stroke Prediction AI/.conda/lib/python3.11/site-packages (from pandas<3.0,>=1.0->gradio) (2.9.0.post0)\n",
      "Requirement already satisfied: pytz>=2020.1 in /home/rizkyfauziilmi/Documents/Code/Learn/Kuliah/Stroke Prediction AI/.conda/lib/python3.11/site-packages (from pandas<3.0,>=1.0->gradio) (2024.2)\n",
      "Requirement already satisfied: tzdata>=2022.1 in /home/rizkyfauziilmi/Documents/Code/Learn/Kuliah/Stroke Prediction AI/.conda/lib/python3.11/site-packages (from pandas<3.0,>=1.0->gradio) (2024.2)\n",
      "Requirement already satisfied: annotated-types>=0.6.0 in /home/rizkyfauziilmi/Documents/Code/Learn/Kuliah/Stroke Prediction AI/.conda/lib/python3.11/site-packages (from pydantic>=2.0->gradio) (0.7.0)\n",
      "Requirement already satisfied: pydantic-core==2.27.1 in /home/rizkyfauziilmi/Documents/Code/Learn/Kuliah/Stroke Prediction AI/.conda/lib/python3.11/site-packages (from pydantic>=2.0->gradio) (2.27.1)\n",
      "Requirement already satisfied: click>=8.0.0 in /home/rizkyfauziilmi/Documents/Code/Learn/Kuliah/Stroke Prediction AI/.conda/lib/python3.11/site-packages (from typer<1.0,>=0.12->gradio) (8.1.7)\n",
      "Requirement already satisfied: shellingham>=1.3.0 in /home/rizkyfauziilmi/Documents/Code/Learn/Kuliah/Stroke Prediction AI/.conda/lib/python3.11/site-packages (from typer<1.0,>=0.12->gradio) (1.5.4)\n",
      "Requirement already satisfied: rich>=10.11.0 in /home/rizkyfauziilmi/Documents/Code/Learn/Kuliah/Stroke Prediction AI/.conda/lib/python3.11/site-packages (from typer<1.0,>=0.12->gradio) (13.9.4)\n",
      "Requirement already satisfied: six>=1.5 in /home/rizkyfauziilmi/Documents/Code/Learn/Kuliah/Stroke Prediction AI/.conda/lib/python3.11/site-packages (from python-dateutil>=2.8.2->pandas<3.0,>=1.0->gradio) (1.16.0)\n",
      "Requirement already satisfied: markdown-it-py>=2.2.0 in /home/rizkyfauziilmi/Documents/Code/Learn/Kuliah/Stroke Prediction AI/.conda/lib/python3.11/site-packages (from rich>=10.11.0->typer<1.0,>=0.12->gradio) (3.0.0)\n",
      "Requirement already satisfied: pygments<3.0.0,>=2.13.0 in /home/rizkyfauziilmi/Documents/Code/Learn/Kuliah/Stroke Prediction AI/.conda/lib/python3.11/site-packages (from rich>=10.11.0->typer<1.0,>=0.12->gradio) (2.15.1)\n",
      "Requirement already satisfied: charset-normalizer<4,>=2 in /home/rizkyfauziilmi/Documents/Code/Learn/Kuliah/Stroke Prediction AI/.conda/lib/python3.11/site-packages (from requests->huggingface-hub>=0.25.1->gradio) (3.4.0)\n",
      "Requirement already satisfied: urllib3<3,>=1.21.1 in /home/rizkyfauziilmi/Documents/Code/Learn/Kuliah/Stroke Prediction AI/.conda/lib/python3.11/site-packages (from requests->huggingface-hub>=0.25.1->gradio) (2.2.3)\n",
      "Requirement already satisfied: mdurl~=0.1 in /home/rizkyfauziilmi/Documents/Code/Learn/Kuliah/Stroke Prediction AI/.conda/lib/python3.11/site-packages (from markdown-it-py>=2.2.0->rich>=10.11.0->typer<1.0,>=0.12->gradio) (0.1.2)\n",
      "Note: you may need to restart the kernel to use updated packages.\n"
     ]
    }
   ],
   "source": [
    "%pip install gradio joblib numpy"
   ]
  },
  {
   "cell_type": "code",
   "execution_count": 2,
   "metadata": {},
   "outputs": [],
   "source": [
    "import gradio as gr\n",
    "import joblib\n",
    "import numpy as np"
   ]
  },
  {
   "cell_type": "code",
   "execution_count": 3,
   "metadata": {},
   "outputs": [],
   "source": [
    "# Load model\n",
    "model = joblib.load(\"../bin/pycaret_model.pkl\")"
   ]
  },
  {
   "cell_type": "code",
   "execution_count": 4,
   "metadata": {},
   "outputs": [],
   "source": [
    "def predict_stroke(gender: str, age: int, hypertension: str, heart_disease: str, ever_married: str, work_type: str, residence_type: str, avg_glucose_level: float, weight: float, height: float, smoking_status: str) -> tuple:\n",
    "    # Kalkulasi BMI\n",
    "    bmi = weight / (height / 100) ** 2\n",
    "\n",
    "    # Mapping data\n",
    "    gender_map = {\"Male\": 1, \"Female\": 0, \"Other\": 2}\n",
    "    yes_no_map = {\"Yes\": 1, \"No\": 0}\n",
    "    work_type_map = {\"Private\": 2, \"Self Employed\": 3, \"Government Job\": 0, \"Children\": 4, \"Never Worked\": 1}\n",
    "    residence_type_map = {\"Urban\": 1, \"Rural\": 0}\n",
    "    smoking_status_map = {\"formerly smoked\": 1, \"never smoked\": 2, \"smokes\": 3, \"Unknown\": 0}\n",
    "\n",
    "    gender = gender_map[gender]\n",
    "    hypertension = yes_no_map[hypertension]\n",
    "    heart_disease = yes_no_map[heart_disease]\n",
    "    ever_married = yes_no_map[ever_married]\n",
    "    work_type = work_type_map[work_type]\n",
    "    residence_type = residence_type_map[residence_type]\n",
    "    smoking_status = smoking_status_map[smoking_status]\n",
    "\n",
    "    # input untuk melakukan prediksi\n",
    "    input_data = np.array([[gender, age, hypertension, heart_disease, ever_married, work_type, residence_type, avg_glucose_level, bmi, smoking_status]])\n",
    "\n",
    "    # Prediksi dan probability\n",
    "    prediction = model.predict(input_data)\n",
    "    probability = model.predict_proba(input_data)[0][1]  # Probability of stroke\n",
    "\n",
    "    # Jika hasil prediksi 1, maka pasien memiliki risiko stroke tinggi dan sebaliknya\n",
    "    if prediction[0] == 1:\n",
    "        stroke_risk = f\"High risk of stroke (Probability: {probability * 100:.2f}%)\"\n",
    "        explanation = \"Factors contributing to high risk: \"\n",
    "        if age > 60:\n",
    "            explanation += \"Age over 60, \"\n",
    "        if hypertension == 1:\n",
    "            explanation += \"Hypertension, \"\n",
    "        if heart_disease == 1:\n",
    "            explanation += \"Heart Disease, \"\n",
    "        if bmi > 25:\n",
    "            explanation += \"High BMI, \"\n",
    "        if smoking_status in [1, 3]:\n",
    "            explanation += \"Smoking, \"\n",
    "        explanation = explanation.rstrip(\", \") + \".\"\n",
    "    else:\n",
    "        stroke_risk = f\"Low risk of stroke (Probability: {probability * 100:.2f}%)\"\n",
    "        explanation = \"Factors contributing to low risk: \"\n",
    "        if age <= 60:\n",
    "            explanation += \"Age 60 or below, \"\n",
    "        if hypertension == 0:\n",
    "            explanation += \"No Hypertension, \"\n",
    "        if heart_disease == 0:\n",
    "            explanation += \"No Heart Disease, \"\n",
    "        if bmi <= 25:\n",
    "            explanation += \"Normal BMI, \"\n",
    "        if smoking_status == 2:\n",
    "            explanation += \"Non-Smoker, \"\n",
    "        explanation = explanation.rstrip(\", \") + \".\"\n",
    "        \n",
    "    bmi_description = f\"BMI: {bmi:.2f} (Weight: {weight} kg, Height: {height} cm)\"\n",
    "        \n",
    "    return stroke_risk, bmi_description, explanation"
   ]
  },
  {
   "cell_type": "code",
   "execution_count": 5,
   "metadata": {},
   "outputs": [],
   "source": [
    "# definisi gradio interface\n",
    "inputs = [\n",
    "    gr.Radio([\"Male\", \"Female\", \"Other\"], label=\"Gender\"),\n",
    "    gr.Number(label=\"Age\", value=25, precision=0),\n",
    "    gr.Radio([\"Yes\", \"No\"], label=\"Hypertension\"),\n",
    "    gr.Radio([\"Yes\", \"No\"], label=\"Heart Disease\"),\n",
    "    gr.Radio([\"Yes\", \"No\"], label=\"Ever Married\"),\n",
    "    gr.Dropdown([\"Private\", \"Self Employed\", \"Government Job\", \"Children\", \"Never Worked\"], label=\"Work Type\"),\n",
    "    gr.Radio([\"Urban\", \"Rural\"], label=\"Residence Type\"),\n",
    "    gr.Number(label=\"Average Glucose Level\", value=100.0),\n",
    "    gr.Number(label=\"Weight (kg)\", value=70.0),\n",
    "    gr.Number(label=\"Height (cm)\", value=170.0),\n",
    "    gr.Dropdown([\"formerly smoked\", \"never smoked\", \"smokes\", \"Unknown\"], label=\"Smoking Status\")\n",
    "]\n",
    "\n",
    "outputs = [\n",
    "    gr.Textbox(label=\"Stroke Prediction\"),\n",
    "    gr.Textbox(label=\"BMI Calculation\"),\n",
    "    gr.Textbox(label=\"Prediction Explanation\")\n",
    "]\n",
    "\n",
    "app = gr.Interface(\n",
    "    fn=predict_stroke,\n",
    "    inputs=inputs,\n",
    "    outputs=outputs,\n",
    "    title=\"Stroke Risk Predictor\",\n",
    "    description=\"Input patient data to predict stroke risk\",\n",
    "    flagging_mode='auto'\n",
    ")"
   ]
  },
  {
   "cell_type": "code",
   "execution_count": 6,
   "metadata": {},
   "outputs": [
    {
     "name": "stdout",
     "output_type": "stream",
     "text": [
      "* Running on local URL:  http://127.0.0.1:7863\n",
      "\n",
      "To create a public link, set `share=True` in `launch()`.\n"
     ]
    },
    {
     "data": {
      "text/html": [
       "<div><iframe src=\"http://127.0.0.1:7863/\" width=\"100%\" height=\"500\" allow=\"autoplay; camera; microphone; clipboard-read; clipboard-write;\" frameborder=\"0\" allowfullscreen></iframe></div>"
      ],
      "text/plain": [
       "<IPython.core.display.HTML object>"
      ]
     },
     "metadata": {},
     "output_type": "display_data"
    },
    {
     "data": {
      "text/plain": []
     },
     "execution_count": 6,
     "metadata": {},
     "output_type": "execute_result"
    }
   ],
   "source": [
    "# Launch app\n",
    "app.launch()"
   ]
  }
 ],
 "metadata": {
  "kernelspec": {
   "display_name": "Python 3",
   "language": "python",
   "name": "python3"
  },
  "language_info": {
   "codemirror_mode": {
    "name": "ipython",
    "version": 3
   },
   "file_extension": ".py",
   "mimetype": "text/x-python",
   "name": "python",
   "nbconvert_exporter": "python",
   "pygments_lexer": "ipython3",
   "version": "3.11.11"
  }
 },
 "nbformat": 4,
 "nbformat_minor": 2
}
