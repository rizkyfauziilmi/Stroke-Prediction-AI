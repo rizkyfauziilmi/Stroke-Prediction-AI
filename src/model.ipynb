{
 "cells": [
  {
   "cell_type": "markdown",
   "metadata": {},
   "source": [
    "# Stroke Prediction AI"
   ]
  },
  {
   "cell_type": "markdown",
   "metadata": {},
   "source": [
    "### Install library yang dibutuhkan"
   ]
  },
  {
   "cell_type": "code",
   "execution_count": 29,
   "metadata": {},
   "outputs": [
    {
     "name": "stdout",
     "output_type": "stream",
     "text": [
      "Requirement already satisfied: optuna in ./.conda/lib/python3.11/site-packages (4.1.0)\n",
      "Requirement already satisfied: pandas in ./.conda/lib/python3.11/site-packages (2.1.4)\n",
      "Requirement already satisfied: scikit-learn in ./.conda/lib/python3.11/site-packages (1.4.2)\n",
      "Requirement already satisfied: matplotlib in ./.conda/lib/python3.11/site-packages (3.7.5)\n",
      "Requirement already satisfied: alembic>=1.5.0 in ./.conda/lib/python3.11/site-packages (from optuna) (1.14.0)\n",
      "Requirement already satisfied: colorlog in ./.conda/lib/python3.11/site-packages (from optuna) (6.9.0)\n",
      "Requirement already satisfied: numpy in ./.conda/lib/python3.11/site-packages (from optuna) (1.26.4)\n",
      "Requirement already satisfied: packaging>=20.0 in ./.conda/lib/python3.11/site-packages (from optuna) (24.1)\n",
      "Requirement already satisfied: sqlalchemy>=1.4.2 in ./.conda/lib/python3.11/site-packages (from optuna) (2.0.36)\n",
      "Requirement already satisfied: tqdm in ./.conda/lib/python3.11/site-packages (from optuna) (4.67.1)\n",
      "Requirement already satisfied: PyYAML in ./.conda/lib/python3.11/site-packages (from optuna) (6.0.2)\n",
      "Requirement already satisfied: python-dateutil>=2.8.2 in ./.conda/lib/python3.11/site-packages (from pandas) (2.9.0.post0)\n",
      "Requirement already satisfied: pytz>=2020.1 in ./.conda/lib/python3.11/site-packages (from pandas) (2024.2)\n",
      "Requirement already satisfied: tzdata>=2022.1 in ./.conda/lib/python3.11/site-packages (from pandas) (2024.2)\n",
      "Requirement already satisfied: scipy>=1.6.0 in ./.conda/lib/python3.11/site-packages (from scikit-learn) (1.11.4)\n",
      "Requirement already satisfied: joblib>=1.2.0 in ./.conda/lib/python3.11/site-packages (from scikit-learn) (1.3.2)\n",
      "Requirement already satisfied: threadpoolctl>=2.0.0 in ./.conda/lib/python3.11/site-packages (from scikit-learn) (3.5.0)\n",
      "Requirement already satisfied: contourpy>=1.0.1 in ./.conda/lib/python3.11/site-packages (from matplotlib) (1.3.1)\n",
      "Requirement already satisfied: cycler>=0.10 in ./.conda/lib/python3.11/site-packages (from matplotlib) (0.12.1)\n",
      "Requirement already satisfied: fonttools>=4.22.0 in ./.conda/lib/python3.11/site-packages (from matplotlib) (4.55.3)\n",
      "Requirement already satisfied: kiwisolver>=1.0.1 in ./.conda/lib/python3.11/site-packages (from matplotlib) (1.4.7)\n",
      "Requirement already satisfied: pillow>=6.2.0 in ./.conda/lib/python3.11/site-packages (from matplotlib) (11.0.0)\n",
      "Requirement already satisfied: pyparsing>=2.3.1 in ./.conda/lib/python3.11/site-packages (from matplotlib) (3.2.0)\n",
      "Requirement already satisfied: Mako in ./.conda/lib/python3.11/site-packages (from alembic>=1.5.0->optuna) (1.3.8)\n",
      "Requirement already satisfied: typing-extensions>=4 in ./.conda/lib/python3.11/site-packages (from alembic>=1.5.0->optuna) (4.11.0)\n",
      "Requirement already satisfied: six>=1.5 in ./.conda/lib/python3.11/site-packages (from python-dateutil>=2.8.2->pandas) (1.16.0)\n",
      "Requirement already satisfied: greenlet!=0.4.17 in ./.conda/lib/python3.11/site-packages (from sqlalchemy>=1.4.2->optuna) (3.1.1)\n",
      "Requirement already satisfied: MarkupSafe>=0.9.2 in ./.conda/lib/python3.11/site-packages (from Mako->alembic>=1.5.0->optuna) (3.0.2)\n",
      "Note: you may need to restart the kernel to use updated packages.\n"
     ]
    }
   ],
   "source": [
    "%pip install optuna pandas scikit-learn matplotlib"
   ]
  },
  {
   "cell_type": "markdown",
   "metadata": {},
   "source": [
    "### 1. Siapkan data"
   ]
  },
  {
   "cell_type": "code",
   "execution_count": 30,
   "metadata": {},
   "outputs": [
    {
     "data": {
      "text/html": [
       "<div>\n",
       "<style scoped>\n",
       "    .dataframe tbody tr th:only-of-type {\n",
       "        vertical-align: middle;\n",
       "    }\n",
       "\n",
       "    .dataframe tbody tr th {\n",
       "        vertical-align: top;\n",
       "    }\n",
       "\n",
       "    .dataframe thead th {\n",
       "        text-align: right;\n",
       "    }\n",
       "</style>\n",
       "<table border=\"1\" class=\"dataframe\">\n",
       "  <thead>\n",
       "    <tr style=\"text-align: right;\">\n",
       "      <th></th>\n",
       "      <th>id</th>\n",
       "      <th>gender</th>\n",
       "      <th>age</th>\n",
       "      <th>hypertension</th>\n",
       "      <th>heart_disease</th>\n",
       "      <th>ever_married</th>\n",
       "      <th>work_type</th>\n",
       "      <th>Residence_type</th>\n",
       "      <th>avg_glucose_level</th>\n",
       "      <th>bmi</th>\n",
       "      <th>smoking_status</th>\n",
       "      <th>stroke</th>\n",
       "    </tr>\n",
       "  </thead>\n",
       "  <tbody>\n",
       "    <tr>\n",
       "      <th>0</th>\n",
       "      <td>9046</td>\n",
       "      <td>Male</td>\n",
       "      <td>67.0</td>\n",
       "      <td>0</td>\n",
       "      <td>1</td>\n",
       "      <td>Yes</td>\n",
       "      <td>Private</td>\n",
       "      <td>Urban</td>\n",
       "      <td>228.69</td>\n",
       "      <td>36.6</td>\n",
       "      <td>formerly smoked</td>\n",
       "      <td>1</td>\n",
       "    </tr>\n",
       "    <tr>\n",
       "      <th>1</th>\n",
       "      <td>51676</td>\n",
       "      <td>Female</td>\n",
       "      <td>61.0</td>\n",
       "      <td>0</td>\n",
       "      <td>0</td>\n",
       "      <td>Yes</td>\n",
       "      <td>Self-employed</td>\n",
       "      <td>Rural</td>\n",
       "      <td>202.21</td>\n",
       "      <td>NaN</td>\n",
       "      <td>never smoked</td>\n",
       "      <td>1</td>\n",
       "    </tr>\n",
       "    <tr>\n",
       "      <th>2</th>\n",
       "      <td>31112</td>\n",
       "      <td>Male</td>\n",
       "      <td>80.0</td>\n",
       "      <td>0</td>\n",
       "      <td>1</td>\n",
       "      <td>Yes</td>\n",
       "      <td>Private</td>\n",
       "      <td>Rural</td>\n",
       "      <td>105.92</td>\n",
       "      <td>32.5</td>\n",
       "      <td>never smoked</td>\n",
       "      <td>1</td>\n",
       "    </tr>\n",
       "    <tr>\n",
       "      <th>3</th>\n",
       "      <td>60182</td>\n",
       "      <td>Female</td>\n",
       "      <td>49.0</td>\n",
       "      <td>0</td>\n",
       "      <td>0</td>\n",
       "      <td>Yes</td>\n",
       "      <td>Private</td>\n",
       "      <td>Urban</td>\n",
       "      <td>171.23</td>\n",
       "      <td>34.4</td>\n",
       "      <td>smokes</td>\n",
       "      <td>1</td>\n",
       "    </tr>\n",
       "    <tr>\n",
       "      <th>4</th>\n",
       "      <td>1665</td>\n",
       "      <td>Female</td>\n",
       "      <td>79.0</td>\n",
       "      <td>1</td>\n",
       "      <td>0</td>\n",
       "      <td>Yes</td>\n",
       "      <td>Self-employed</td>\n",
       "      <td>Rural</td>\n",
       "      <td>174.12</td>\n",
       "      <td>24.0</td>\n",
       "      <td>never smoked</td>\n",
       "      <td>1</td>\n",
       "    </tr>\n",
       "  </tbody>\n",
       "</table>\n",
       "</div>"
      ],
      "text/plain": [
       "      id  gender   age  hypertension  heart_disease ever_married  \\\n",
       "0   9046    Male  67.0             0              1          Yes   \n",
       "1  51676  Female  61.0             0              0          Yes   \n",
       "2  31112    Male  80.0             0              1          Yes   \n",
       "3  60182  Female  49.0             0              0          Yes   \n",
       "4   1665  Female  79.0             1              0          Yes   \n",
       "\n",
       "       work_type Residence_type  avg_glucose_level   bmi   smoking_status  \\\n",
       "0        Private          Urban             228.69  36.6  formerly smoked   \n",
       "1  Self-employed          Rural             202.21   NaN     never smoked   \n",
       "2        Private          Rural             105.92  32.5     never smoked   \n",
       "3        Private          Urban             171.23  34.4           smokes   \n",
       "4  Self-employed          Rural             174.12  24.0     never smoked   \n",
       "\n",
       "   stroke  \n",
       "0       1  \n",
       "1       1  \n",
       "2       1  \n",
       "3       1  \n",
       "4       1  "
      ]
     },
     "execution_count": 30,
     "metadata": {},
     "output_type": "execute_result"
    }
   ],
   "source": [
    "import pandas as pd\n",
    "\n",
    "df = pd.read_csv('./data/healthcare-dataset-stroke-data.csv')\n",
    "\n",
    "df.head()"
   ]
  },
  {
   "cell_type": "markdown",
   "metadata": {},
   "source": [
    "### 2. Lakukan Preprocessing"
   ]
  },
  {
   "cell_type": "code",
   "execution_count": 31,
   "metadata": {},
   "outputs": [
    {
     "name": "stdout",
     "output_type": "stream",
     "text": [
      "id                     0\n",
      "gender                 0\n",
      "age                    0\n",
      "hypertension           0\n",
      "heart_disease          0\n",
      "ever_married           0\n",
      "work_type              0\n",
      "Residence_type         0\n",
      "avg_glucose_level      0\n",
      "bmi                  201\n",
      "smoking_status         0\n",
      "stroke                 0\n",
      "dtype: int64\n"
     ]
    }
   ],
   "source": [
    "# Cek nilai yang hilang\n",
    "print(df.isnull().sum())"
   ]
  },
  {
   "cell_type": "markdown",
   "metadata": {},
   "source": [
    "Terdapat nilai yang hilang pada kolom BMI, sehingga kita akan mengisi nilai tersebut dengan nilai rata-rata dari kolom tersebut."
   ]
  },
  {
   "cell_type": "code",
   "execution_count": 32,
   "metadata": {},
   "outputs": [
    {
     "name": "stdout",
     "output_type": "stream",
     "text": [
      "id                   0\n",
      "gender               0\n",
      "age                  0\n",
      "hypertension         0\n",
      "heart_disease        0\n",
      "ever_married         0\n",
      "work_type            0\n",
      "Residence_type       0\n",
      "avg_glucose_level    0\n",
      "bmi                  0\n",
      "smoking_status       0\n",
      "stroke               0\n",
      "dtype: int64\n"
     ]
    }
   ],
   "source": [
    "from sklearn.impute import SimpleImputer\n",
    "\n",
    "# Mengisi nilai yang hilang pada kolom bmi dengan nilai rata-rata\n",
    "imputer = SimpleImputer(strategy='mean')\n",
    "df['bmi'] = imputer.fit_transform(df[['bmi']])\n",
    "\n",
    "print(df.isnull().sum())"
   ]
  },
  {
   "cell_type": "code",
   "execution_count": 33,
   "metadata": {},
   "outputs": [
    {
     "name": "stdout",
     "output_type": "stream",
     "text": [
      "gender: ['Male' 'Female' 'Other']\n",
      "ever_married: ['Yes' 'No']\n",
      "work_type: ['Private' 'Self-employed' 'Govt_job' 'children' 'Never_worked']\n",
      "Residence_type: ['Urban' 'Rural']\n",
      "smoking_status: ['formerly smoked' 'never smoked' 'smokes' 'Unknown']\n"
     ]
    }
   ],
   "source": [
    "# tampilkan semua kemungkinan nilai dari setiap kolom\n",
    "for col in ['gender', 'ever_married', 'work_type', 'Residence_type', 'smoking_status']:\n",
    "    print(f'{col}: {df[col].unique()}')"
   ]
  },
  {
   "cell_type": "markdown",
   "metadata": {},
   "source": [
    "Terdapat kolom yang berisi data kategorikal, yaitu kolom 'gender', 'ever_married', 'work_type', 'Residence_type', 'smoking_status'. Kita akan melakukan "
   ]
  },
  {
   "cell_type": "code",
   "execution_count": 55,
   "metadata": {},
   "outputs": [
    {
     "name": "stdout",
     "output_type": "stream",
     "text": [
      "gender: [1 0 2]\n",
      "ever_married: [1 0]\n",
      "work_type: [2 3 0 4 1]\n",
      "Residence_type: [1 0]\n",
      "smoking_status: [1 2 3 0]\n"
     ]
    }
   ],
   "source": [
    "from sklearn.preprocessing import LabelEncoder\n",
    "\n",
    "# Melakukan label encoding, mengubah nilai kategori menjadi nilai numerik\n",
    "label_encoders = {}\n",
    "categorical_columns = ['gender', 'ever_married', 'work_type', 'Residence_type', 'smoking_status']\n",
    "\n",
    "for col in categorical_columns:\n",
    "    le = LabelEncoder()\n",
    "    df[col] = le.fit_transform(df[col])\n",
    "    label_encoders[col] = le\n",
    "    \n",
    "# Menampilkan hasil label encoding\n",
    "for col in categorical_columns:\n",
    "    print(f'{col}: {df[col].unique()}')\n",
    "    "
   ]
  },
  {
   "cell_type": "code",
   "execution_count": 35,
   "metadata": {},
   "outputs": [
    {
     "data": {
      "text/html": [
       "<div>\n",
       "<style scoped>\n",
       "    .dataframe tbody tr th:only-of-type {\n",
       "        vertical-align: middle;\n",
       "    }\n",
       "\n",
       "    .dataframe tbody tr th {\n",
       "        vertical-align: top;\n",
       "    }\n",
       "\n",
       "    .dataframe thead th {\n",
       "        text-align: right;\n",
       "    }\n",
       "</style>\n",
       "<table border=\"1\" class=\"dataframe\">\n",
       "  <thead>\n",
       "    <tr style=\"text-align: right;\">\n",
       "      <th></th>\n",
       "      <th>id</th>\n",
       "      <th>gender</th>\n",
       "      <th>age</th>\n",
       "      <th>hypertension</th>\n",
       "      <th>heart_disease</th>\n",
       "      <th>ever_married</th>\n",
       "      <th>work_type</th>\n",
       "      <th>Residence_type</th>\n",
       "      <th>avg_glucose_level</th>\n",
       "      <th>bmi</th>\n",
       "      <th>smoking_status</th>\n",
       "      <th>stroke</th>\n",
       "    </tr>\n",
       "  </thead>\n",
       "  <tbody>\n",
       "    <tr>\n",
       "      <th>0</th>\n",
       "      <td>9046</td>\n",
       "      <td>1</td>\n",
       "      <td>67.0</td>\n",
       "      <td>0</td>\n",
       "      <td>1</td>\n",
       "      <td>1</td>\n",
       "      <td>2</td>\n",
       "      <td>1</td>\n",
       "      <td>228.69</td>\n",
       "      <td>36.600000</td>\n",
       "      <td>1</td>\n",
       "      <td>1</td>\n",
       "    </tr>\n",
       "    <tr>\n",
       "      <th>1</th>\n",
       "      <td>51676</td>\n",
       "      <td>0</td>\n",
       "      <td>61.0</td>\n",
       "      <td>0</td>\n",
       "      <td>0</td>\n",
       "      <td>1</td>\n",
       "      <td>3</td>\n",
       "      <td>0</td>\n",
       "      <td>202.21</td>\n",
       "      <td>28.893237</td>\n",
       "      <td>2</td>\n",
       "      <td>1</td>\n",
       "    </tr>\n",
       "    <tr>\n",
       "      <th>2</th>\n",
       "      <td>31112</td>\n",
       "      <td>1</td>\n",
       "      <td>80.0</td>\n",
       "      <td>0</td>\n",
       "      <td>1</td>\n",
       "      <td>1</td>\n",
       "      <td>2</td>\n",
       "      <td>0</td>\n",
       "      <td>105.92</td>\n",
       "      <td>32.500000</td>\n",
       "      <td>2</td>\n",
       "      <td>1</td>\n",
       "    </tr>\n",
       "    <tr>\n",
       "      <th>3</th>\n",
       "      <td>60182</td>\n",
       "      <td>0</td>\n",
       "      <td>49.0</td>\n",
       "      <td>0</td>\n",
       "      <td>0</td>\n",
       "      <td>1</td>\n",
       "      <td>2</td>\n",
       "      <td>1</td>\n",
       "      <td>171.23</td>\n",
       "      <td>34.400000</td>\n",
       "      <td>3</td>\n",
       "      <td>1</td>\n",
       "    </tr>\n",
       "    <tr>\n",
       "      <th>4</th>\n",
       "      <td>1665</td>\n",
       "      <td>0</td>\n",
       "      <td>79.0</td>\n",
       "      <td>1</td>\n",
       "      <td>0</td>\n",
       "      <td>1</td>\n",
       "      <td>3</td>\n",
       "      <td>0</td>\n",
       "      <td>174.12</td>\n",
       "      <td>24.000000</td>\n",
       "      <td>2</td>\n",
       "      <td>1</td>\n",
       "    </tr>\n",
       "  </tbody>\n",
       "</table>\n",
       "</div>"
      ],
      "text/plain": [
       "      id  gender   age  hypertension  heart_disease  ever_married  work_type  \\\n",
       "0   9046       1  67.0             0              1             1          2   \n",
       "1  51676       0  61.0             0              0             1          3   \n",
       "2  31112       1  80.0             0              1             1          2   \n",
       "3  60182       0  49.0             0              0             1          2   \n",
       "4   1665       0  79.0             1              0             1          3   \n",
       "\n",
       "   Residence_type  avg_glucose_level        bmi  smoking_status  stroke  \n",
       "0               1             228.69  36.600000               1       1  \n",
       "1               0             202.21  28.893237               2       1  \n",
       "2               0             105.92  32.500000               2       1  \n",
       "3               1             171.23  34.400000               3       1  \n",
       "4               0             174.12  24.000000               2       1  "
      ]
     },
     "execution_count": 35,
     "metadata": {},
     "output_type": "execute_result"
    }
   ],
   "source": [
    "df.head()"
   ]
  },
  {
   "cell_type": "markdown",
   "metadata": {},
   "source": [
    "Hapus kolom 'id' karena tidak relevan dengan model."
   ]
  },
  {
   "cell_type": "code",
   "execution_count": 36,
   "metadata": {},
   "outputs": [
    {
     "data": {
      "text/html": [
       "<div>\n",
       "<style scoped>\n",
       "    .dataframe tbody tr th:only-of-type {\n",
       "        vertical-align: middle;\n",
       "    }\n",
       "\n",
       "    .dataframe tbody tr th {\n",
       "        vertical-align: top;\n",
       "    }\n",
       "\n",
       "    .dataframe thead th {\n",
       "        text-align: right;\n",
       "    }\n",
       "</style>\n",
       "<table border=\"1\" class=\"dataframe\">\n",
       "  <thead>\n",
       "    <tr style=\"text-align: right;\">\n",
       "      <th></th>\n",
       "      <th>gender</th>\n",
       "      <th>age</th>\n",
       "      <th>hypertension</th>\n",
       "      <th>heart_disease</th>\n",
       "      <th>ever_married</th>\n",
       "      <th>work_type</th>\n",
       "      <th>Residence_type</th>\n",
       "      <th>avg_glucose_level</th>\n",
       "      <th>bmi</th>\n",
       "      <th>smoking_status</th>\n",
       "      <th>stroke</th>\n",
       "    </tr>\n",
       "  </thead>\n",
       "  <tbody>\n",
       "    <tr>\n",
       "      <th>0</th>\n",
       "      <td>1</td>\n",
       "      <td>67.0</td>\n",
       "      <td>0</td>\n",
       "      <td>1</td>\n",
       "      <td>1</td>\n",
       "      <td>2</td>\n",
       "      <td>1</td>\n",
       "      <td>228.69</td>\n",
       "      <td>36.600000</td>\n",
       "      <td>1</td>\n",
       "      <td>1</td>\n",
       "    </tr>\n",
       "    <tr>\n",
       "      <th>1</th>\n",
       "      <td>0</td>\n",
       "      <td>61.0</td>\n",
       "      <td>0</td>\n",
       "      <td>0</td>\n",
       "      <td>1</td>\n",
       "      <td>3</td>\n",
       "      <td>0</td>\n",
       "      <td>202.21</td>\n",
       "      <td>28.893237</td>\n",
       "      <td>2</td>\n",
       "      <td>1</td>\n",
       "    </tr>\n",
       "    <tr>\n",
       "      <th>2</th>\n",
       "      <td>1</td>\n",
       "      <td>80.0</td>\n",
       "      <td>0</td>\n",
       "      <td>1</td>\n",
       "      <td>1</td>\n",
       "      <td>2</td>\n",
       "      <td>0</td>\n",
       "      <td>105.92</td>\n",
       "      <td>32.500000</td>\n",
       "      <td>2</td>\n",
       "      <td>1</td>\n",
       "    </tr>\n",
       "    <tr>\n",
       "      <th>3</th>\n",
       "      <td>0</td>\n",
       "      <td>49.0</td>\n",
       "      <td>0</td>\n",
       "      <td>0</td>\n",
       "      <td>1</td>\n",
       "      <td>2</td>\n",
       "      <td>1</td>\n",
       "      <td>171.23</td>\n",
       "      <td>34.400000</td>\n",
       "      <td>3</td>\n",
       "      <td>1</td>\n",
       "    </tr>\n",
       "    <tr>\n",
       "      <th>4</th>\n",
       "      <td>0</td>\n",
       "      <td>79.0</td>\n",
       "      <td>1</td>\n",
       "      <td>0</td>\n",
       "      <td>1</td>\n",
       "      <td>3</td>\n",
       "      <td>0</td>\n",
       "      <td>174.12</td>\n",
       "      <td>24.000000</td>\n",
       "      <td>2</td>\n",
       "      <td>1</td>\n",
       "    </tr>\n",
       "  </tbody>\n",
       "</table>\n",
       "</div>"
      ],
      "text/plain": [
       "   gender   age  hypertension  heart_disease  ever_married  work_type  \\\n",
       "0       1  67.0             0              1             1          2   \n",
       "1       0  61.0             0              0             1          3   \n",
       "2       1  80.0             0              1             1          2   \n",
       "3       0  49.0             0              0             1          2   \n",
       "4       0  79.0             1              0             1          3   \n",
       "\n",
       "   Residence_type  avg_glucose_level        bmi  smoking_status  stroke  \n",
       "0               1             228.69  36.600000               1       1  \n",
       "1               0             202.21  28.893237               2       1  \n",
       "2               0             105.92  32.500000               2       1  \n",
       "3               1             171.23  34.400000               3       1  \n",
       "4               0             174.12  24.000000               2       1  "
      ]
     },
     "execution_count": 36,
     "metadata": {},
     "output_type": "execute_result"
    }
   ],
   "source": [
    "# Hapus kolom id\n",
    "df.drop(columns=['id'], inplace=True)\n",
    "\n",
    "# Menampilkan data setelah id dihapus\n",
    "df.head()"
   ]
  },
  {
   "cell_type": "markdown",
   "metadata": {},
   "source": [
    "Pisahkan kolom Features dan Target."
   ]
  },
  {
   "cell_type": "code",
   "execution_count": 37,
   "metadata": {},
   "outputs": [],
   "source": [
    "X = df.drop(columns=['stroke'])\n",
    "y = df['stroke']"
   ]
  },
  {
   "cell_type": "markdown",
   "metadata": {},
   "source": [
    "### 3. Split data"
   ]
  },
  {
   "cell_type": "markdown",
   "metadata": {},
   "source": [
    "kita akan membagi data menjadi data training dan data testing dengan perbandingan 80:20."
   ]
  },
  {
   "cell_type": "code",
   "execution_count": 38,
   "metadata": {},
   "outputs": [],
   "source": [
    "from sklearn.model_selection import train_test_split\n",
    "\n",
    "# Split the dataset into training and testing sets (80%-20%)\n",
    "X_train, X_test, y_train, y_test = train_test_split(X, y, test_size=0.2, random_state=42, stratify=y)"
   ]
  },
  {
   "cell_type": "code",
   "execution_count": 39,
   "metadata": {},
   "outputs": [
    {
     "data": {
      "image/png": "[encoded data removed]",
      "text/plain": [
       "<Figure size 600x400 with 1 Axes>"
      ]
     },
     "metadata": {},
     "output_type": "display_data"
    }
   ],
   "source": [
    "import matplotlib.pyplot as plt\n",
    "\n",
    "# Menampilkan distribusi target\n",
    "plt.figure(figsize=(6, 4))\n",
    "df['stroke'].value_counts().plot(kind='bar', color=['skyblue', 'salmon'], title='Target Distribution')\n",
    "plt.xticks([0, 1], ['No Stroke', 'Stroke'], rotation=0)\n",
    "plt.xlabel('Target')\n",
    "plt.ylabel('Count')\n",
    "plt.show()"
   ]
  },
  {
   "cell_type": "markdown",
   "metadata": {},
   "source": [
    "Terlihat pada grafik di atas, distribusi nilai target tidak seimbang. Oleh karena itu, kita akan menggunakan SMOTE untuk menyeimbangkan data."
   ]
  },
  {
   "cell_type": "code",
   "execution_count": 40,
   "metadata": {},
   "outputs": [
    {
     "data": {
      "image/png": "[encoded data removed]",
      "text/plain": [
       "<Figure size 600x400 with 1 Axes>"
      ]
     },
     "metadata": {},
     "output_type": "display_data"
    }
   ],
   "source": [
    "from imblearn.over_sampling import SMOTE\n",
    "\n",
    "smote = SMOTE(random_state=42)\n",
    "X_train_resampled, y_train_resampled = smote.fit_resample(X_train, y_train)\n",
    "\n",
    "# Menampilkan distribusi target setelah resampling\n",
    "plt.figure(figsize=(6, 4))\n",
    "pd.Series(y_train_resampled).value_counts().plot(kind='bar', color=['skyblue', 'salmon'], title='Target Distribution After SMOTE')\n",
    "plt.xticks([0, 1], ['No Stroke', 'Stroke'], rotation=0)\n",
    "plt.xlabel('Target')\n",
    "plt.ylabel('Count')\n",
    "plt.show()"
   ]
  },
  {
   "cell_type": "markdown",
   "metadata": {},
   "source": [
    "### 4. Mebuat Model\n",
    "\n",
    "Kita akan menggunakan model Gradient Boosting Classifier.\n",
    "- Kinerja Tinggi: Mampu menangkap pola kompleks dalam data medis yang seringkali non-linear.\n",
    "- Penanganan Ketidakseimbangan Data: Cocok untuk dataset stroke yang mungkin memiliki distribusi kelas tidak merata (misalnya, lebih banyak non-stroke).\n",
    "- Robust terhadap Outlier: Efektif menghadapi data dengan outlier, seperti nilai ekstrim tekanan darah atau kadar glukosa.\n",
    "- Kemampuan Fitur Importance: Membantu mengidentifikasi faktor risiko utama stroke, seperti usia, hipertensi, dan diabetes.\n",
    "- Fleksibilitas: Cocok untuk dataset kecil hingga besar, tanpa memerlukan banyak preprocessing.\n",
    "- Pengendalian Overfitting: Hyperparameter seperti learning rate dan n_estimators memungkinkan kontrol yang baik terhadap overfitting.\n",
    "- Iterasi Bertahap: Meningkatkan performa secara bertahap dengan meminimalkan kesalahan model sebelumnya."
   ]
  },
  {
   "cell_type": "code",
   "execution_count": 41,
   "metadata": {},
   "outputs": [],
   "source": [
    "from sklearn.ensemble import GradientBoostingClassifier\n",
    "\n",
    "gbc = GradientBoostingClassifier(\n",
    "    n_estimators=300,\n",
    "    learning_rate=0.05,\n",
    "    random_state=100,\n",
    "    max_features=5 \n",
    ")\n",
    "\n",
    "gbc.fit(X_train_resampled, y_train_resampled)\n",
    "\n",
    "predictions = gbc.predict(X_test)"
   ]
  },
  {
   "cell_type": "markdown",
   "metadata": {},
   "source": [
    "### 5. Evaluasi Model"
   ]
  },
  {
   "cell_type": "code",
   "execution_count": 42,
   "metadata": {},
   "outputs": [
    {
     "name": "stdout",
     "output_type": "stream",
     "text": [
      "Accuracy: 0.8346379647749511\n",
      "Classification Report:\n",
      "              precision    recall  f1-score   support\n",
      "\n",
      "           0       0.97      0.85      0.91       972\n",
      "           1       0.14      0.46      0.21        50\n",
      "\n",
      "    accuracy                           0.83      1022\n",
      "   macro avg       0.55      0.66      0.56      1022\n",
      "weighted avg       0.93      0.83      0.87      1022\n",
      "\n",
      "Confusion Matrix:\n",
      "[[830 142]\n",
      " [ 27  23]]\n"
     ]
    }
   ],
   "source": [
    "from sklearn.metrics import accuracy_score, classification_report, confusion_matrix\n",
    "\n",
    "# Menampilkan hasil\n",
    "print(f'Accuracy: {accuracy_score(y_test, predictions)}')\n",
    "print(f'Classification Report:\\n{classification_report(y_test, predictions)}')\n",
    "print(f'Confusion Matrix:\\n{confusion_matrix(y_test, predictions)}')"
   ]
  },
  {
   "cell_type": "markdown",
   "metadata": {},
   "source": [
    "Accuracy 0.83, kita masih bisa meningkatkan performa model dengan mencari parameter terbaik menggunakan optuna."
   ]
  },
  {
   "cell_type": "code",
   "execution_count": 43,
   "metadata": {},
   "outputs": [
    {
     "name": "stderr",
     "output_type": "stream",
     "text": [
      "[I 2024-12-16 09:58:31,847] A new study created in memory with name: no-name-79982a4a-0ea7-462e-b6f2-03882fc9db7b\n",
      "[I 2024-12-16 09:58:33,050] Trial 0 finished with value: 0.14970645792563597 and parameters: {'n_estimators': 50, 'learning_rate': 0.19683816886206937, 'max_depth': 4}. Best is trial 0 with value: 0.14970645792563597.\n",
      "[I 2024-12-16 09:58:36,964] Trial 1 finished with value: 0.13111545988258322 and parameters: {'n_estimators': 100, 'learning_rate': 0.07179000858801927, 'max_depth': 6}. Best is trial 1 with value: 0.13111545988258322.\n",
      "[I 2024-12-16 09:58:37,795] Trial 2 finished with value: 0.1927592954990215 and parameters: {'n_estimators': 50, 'learning_rate': 0.17061475361568398, 'max_depth': 3}. Best is trial 1 with value: 0.13111545988258322.\n",
      "[I 2024-12-16 09:58:42,779] Trial 3 finished with value: 0.10176125244618395 and parameters: {'n_estimators': 250, 'learning_rate': 0.0929787088082754, 'max_depth': 4}. Best is trial 3 with value: 0.10176125244618395.\n",
      "[I 2024-12-16 09:58:46,539] Trial 4 finished with value: 0.09491193737769077 and parameters: {'n_estimators': 250, 'learning_rate': 0.18456796004221723, 'max_depth': 3}. Best is trial 4 with value: 0.09491193737769077.\n",
      "[I 2024-12-16 09:58:52,833] Trial 5 finished with value: 0.08708414872798431 and parameters: {'n_estimators': 150, 'learning_rate': 0.09686751903059658, 'max_depth': 7}. Best is trial 5 with value: 0.08708414872798431.\n",
      "[I 2024-12-16 09:58:56,675] Trial 6 finished with value: 0.12720156555773 and parameters: {'n_estimators': 250, 'learning_rate': 0.11955175230226248, 'max_depth': 3}. Best is trial 5 with value: 0.08708414872798431.\n",
      "[I 2024-12-16 09:58:57,550] Trial 7 finished with value: 0.19373776908023488 and parameters: {'n_estimators': 50, 'learning_rate': 0.11638110382174634, 'max_depth': 3}. Best is trial 5 with value: 0.08708414872798431.\n",
      "[I 2024-12-16 09:59:03,820] Trial 8 finished with value: 0.13992172211350296 and parameters: {'n_estimators': 200, 'learning_rate': 0.027561546363838084, 'max_depth': 6}. Best is trial 5 with value: 0.08708414872798431.\n",
      "[I 2024-12-16 09:59:05,550] Trial 9 finished with value: 0.09980430528375739 and parameters: {'n_estimators': 50, 'learning_rate': 0.1785387048379181, 'max_depth': 7}. Best is trial 5 with value: 0.08708414872798431.\n",
      "[I 2024-12-16 09:59:10,684] Trial 10 finished with value: 0.16927592954990212 and parameters: {'n_estimators': 150, 'learning_rate': 0.013923549879063815, 'max_depth': 7}. Best is trial 5 with value: 0.08708414872798431.\n",
      "[I 2024-12-16 09:59:14,212] Trial 11 finished with value: 0.09491193737769077 and parameters: {'n_estimators': 150, 'learning_rate': 0.1422783746693111, 'max_depth': 5}. Best is trial 5 with value: 0.08708414872798431.\n",
      "[I 2024-12-16 09:59:20,000] Trial 12 finished with value: 0.1154598825831703 and parameters: {'n_estimators': 200, 'learning_rate': 0.0676745686571282, 'max_depth': 5}. Best is trial 5 with value: 0.08708414872798431.\n",
      "[I 2024-12-16 09:59:25,381] Trial 13 finished with value: 0.0772994129158513 and parameters: {'n_estimators': 200, 'learning_rate': 0.1421491799495647, 'max_depth': 6}. Best is trial 13 with value: 0.0772994129158513.\n",
      "[I 2024-12-16 09:59:32,481] Trial 14 finished with value: 0.07534246575342463 and parameters: {'n_estimators': 200, 'learning_rate': 0.1404819275064587, 'max_depth': 6}. Best is trial 14 with value: 0.07534246575342463.\n",
      "[I 2024-12-16 09:59:39,195] Trial 15 finished with value: 0.0714285714285714 and parameters: {'n_estimators': 200, 'learning_rate': 0.15285531928212054, 'max_depth': 6}. Best is trial 15 with value: 0.0714285714285714.\n",
      "[I 2024-12-16 09:59:46,604] Trial 16 finished with value: 0.07827788649706457 and parameters: {'n_estimators': 200, 'learning_rate': 0.15143076153157406, 'max_depth': 6}. Best is trial 15 with value: 0.0714285714285714.\n",
      "[I 2024-12-16 09:59:49,660] Trial 17 finished with value: 0.10176125244618395 and parameters: {'n_estimators': 100, 'learning_rate': 0.156804098651611, 'max_depth': 5}. Best is trial 15 with value: 0.0714285714285714.\n",
      "[I 2024-12-16 09:59:56,791] Trial 18 finished with value: 0.07827788649706457 and parameters: {'n_estimators': 200, 'learning_rate': 0.12853869538741503, 'max_depth': 6}. Best is trial 15 with value: 0.0714285714285714.\n",
      "[I 2024-12-16 10:00:00,471] Trial 19 finished with value: 0.14481409001956946 and parameters: {'n_estimators': 150, 'learning_rate': 0.07646698502597944, 'max_depth': 4}. Best is trial 15 with value: 0.0714285714285714.\n",
      "[I 2024-12-16 10:00:04,545] Trial 20 finished with value: 0.08512720156555775 and parameters: {'n_estimators': 100, 'learning_rate': 0.1598516580017829, 'max_depth': 7}. Best is trial 15 with value: 0.0714285714285714.\n",
      "[I 2024-12-16 10:00:11,063] Trial 21 finished with value: 0.07827788649706457 and parameters: {'n_estimators': 200, 'learning_rate': 0.13274838940774647, 'max_depth': 6}. Best is trial 15 with value: 0.0714285714285714.\n",
      "[I 2024-12-16 10:00:17,791] Trial 22 finished with value: 0.07436399217221135 and parameters: {'n_estimators': 200, 'learning_rate': 0.1385363677957251, 'max_depth': 6}. Best is trial 15 with value: 0.0714285714285714.\n",
      "[I 2024-12-16 10:00:24,574] Trial 23 finished with value: 0.08317025440313108 and parameters: {'n_estimators': 250, 'learning_rate': 0.11297054056308607, 'max_depth': 5}. Best is trial 15 with value: 0.0714285714285714.\n",
      "[I 2024-12-16 10:00:30,475] Trial 24 finished with value: 0.07240704500978479 and parameters: {'n_estimators': 200, 'learning_rate': 0.16491666690646306, 'max_depth': 6}. Best is trial 15 with value: 0.0714285714285714.\n",
      "[I 2024-12-16 10:00:38,748] Trial 25 finished with value: 0.08023483365949124 and parameters: {'n_estimators': 250, 'learning_rate': 0.16918890066587755, 'max_depth': 7}. Best is trial 15 with value: 0.0714285714285714.\n",
      "[I 2024-12-16 10:00:44,256] Trial 26 finished with value: 0.07632093933463802 and parameters: {'n_estimators': 200, 'learning_rate': 0.18227635868041456, 'max_depth': 6}. Best is trial 15 with value: 0.0714285714285714.\n",
      "[I 2024-12-16 10:00:48,775] Trial 27 finished with value: 0.0821917808219178 and parameters: {'n_estimators': 150, 'learning_rate': 0.19889669911509866, 'max_depth': 5}. Best is trial 15 with value: 0.0714285714285714.\n",
      "[I 2024-12-16 10:00:54,494] Trial 28 finished with value: 0.08512720156555775 and parameters: {'n_estimators': 150, 'learning_rate': 0.16639192688925528, 'max_depth': 6}. Best is trial 15 with value: 0.0714285714285714.\n",
      "[I 2024-12-16 10:01:00,225] Trial 29 finished with value: 0.08317025440313108 and parameters: {'n_estimators': 200, 'learning_rate': 0.18869888377122046, 'max_depth': 5}. Best is trial 15 with value: 0.0714285714285714.\n",
      "[I 2024-12-16 10:01:06,880] Trial 30 finished with value: 0.07827788649706457 and parameters: {'n_estimators': 250, 'learning_rate': 0.15103044985996839, 'max_depth': 7}. Best is trial 15 with value: 0.0714285714285714.\n",
      "[I 2024-12-16 10:01:13,867] Trial 31 finished with value: 0.07827788649706457 and parameters: {'n_estimators': 200, 'learning_rate': 0.13419800699411405, 'max_depth': 6}. Best is trial 15 with value: 0.0714285714285714.\n",
      "[I 2024-12-16 10:01:20,191] Trial 32 finished with value: 0.07338551859099807 and parameters: {'n_estimators': 200, 'learning_rate': 0.14350400104621508, 'max_depth': 6}. Best is trial 15 with value: 0.0714285714285714.\n",
      "[I 2024-12-16 10:01:27,529] Trial 33 finished with value: 0.0821917808219178 and parameters: {'n_estimators': 200, 'learning_rate': 0.12684966883652, 'max_depth': 6}. Best is trial 15 with value: 0.0714285714285714.\n",
      "[I 2024-12-16 10:01:32,543] Trial 34 finished with value: 0.09980430528375739 and parameters: {'n_estimators': 150, 'learning_rate': 0.1051825697732263, 'max_depth': 5}. Best is trial 15 with value: 0.0714285714285714.\n",
      "[I 2024-12-16 10:01:37,957] Trial 35 finished with value: 0.07925636007827785 and parameters: {'n_estimators': 250, 'learning_rate': 0.16763570367852076, 'max_depth': 6}. Best is trial 15 with value: 0.0714285714285714.\n",
      "[I 2024-12-16 10:01:46,666] Trial 36 finished with value: 0.07925636007827785 and parameters: {'n_estimators': 200, 'learning_rate': 0.14846612606962892, 'max_depth': 7}. Best is trial 15 with value: 0.0714285714285714.\n",
      "[I 2024-12-16 10:01:52,974] Trial 37 finished with value: 0.10665362035225046 and parameters: {'n_estimators': 250, 'learning_rate': 0.08361648981525535, 'max_depth': 4}. Best is trial 15 with value: 0.0714285714285714.\n",
      "[I 2024-12-16 10:01:58,253] Trial 38 finished with value: 0.12720156555773 and parameters: {'n_estimators': 150, 'learning_rate': 0.05143482238219169, 'max_depth': 6}. Best is trial 15 with value: 0.0714285714285714.\n",
      "[I 2024-12-16 10:02:02,924] Trial 39 finished with value: 0.08023483365949124 and parameters: {'n_estimators': 250, 'learning_rate': 0.1734736644919807, 'max_depth': 5}. Best is trial 15 with value: 0.0714285714285714.\n",
      "[I 2024-12-16 10:02:11,457] Trial 40 finished with value: 0.0880626223091977 and parameters: {'n_estimators': 200, 'learning_rate': 0.10794304348078912, 'max_depth': 7}. Best is trial 15 with value: 0.0714285714285714.\n",
      "[I 2024-12-16 10:02:18,316] Trial 41 finished with value: 0.0772994129158513 and parameters: {'n_estimators': 200, 'learning_rate': 0.14116647359967716, 'max_depth': 6}. Best is trial 15 with value: 0.0714285714285714.\n",
      "[I 2024-12-16 10:02:23,526] Trial 42 finished with value: 0.07925636007827785 and parameters: {'n_estimators': 200, 'learning_rate': 0.12280368147449827, 'max_depth': 6}. Best is trial 15 with value: 0.0714285714285714.\n",
      "[I 2024-12-16 10:02:29,993] Trial 43 finished with value: 0.0772994129158513 and parameters: {'n_estimators': 200, 'learning_rate': 0.1593269341074815, 'max_depth': 6}. Best is trial 15 with value: 0.0714285714285714.\n",
      "[I 2024-12-16 10:02:37,457] Trial 44 finished with value: 0.08708414872798431 and parameters: {'n_estimators': 200, 'learning_rate': 0.09451503537829062, 'max_depth': 6}. Best is trial 15 with value: 0.0714285714285714.\n",
      "[I 2024-12-16 10:02:43,027] Trial 45 finished with value: 0.07632093933463802 and parameters: {'n_estimators': 150, 'learning_rate': 0.13881356373289921, 'max_depth': 6}. Best is trial 15 with value: 0.0714285714285714.\n",
      "[I 2024-12-16 10:02:49,782] Trial 46 finished with value: 0.0772994129158513 and parameters: {'n_estimators': 250, 'learning_rate': 0.1922278161548536, 'max_depth': 7}. Best is trial 15 with value: 0.0714285714285714.\n",
      "[I 2024-12-16 10:02:55,452] Trial 47 finished with value: 0.0772994129158513 and parameters: {'n_estimators': 200, 'learning_rate': 0.17765459329765948, 'max_depth': 5}. Best is trial 15 with value: 0.0714285714285714.\n",
      "[I 2024-12-16 10:03:00,561] Trial 48 finished with value: 0.08414872798434447 and parameters: {'n_estimators': 150, 'learning_rate': 0.14790676774890388, 'max_depth': 6}. Best is trial 15 with value: 0.0714285714285714.\n",
      "[I 2024-12-16 10:03:07,795] Trial 49 finished with value: 0.08023483365949124 and parameters: {'n_estimators': 200, 'learning_rate': 0.11753192752791555, 'max_depth': 6}. Best is trial 15 with value: 0.0714285714285714.\n"
     ]
    }
   ],
   "source": [
    "import optuna\n",
    "\n",
    "# Fungsi objective yang akan dioptimasi oleh optuna\n",
    "def objective(trial: optuna.Trial) -> float:\n",
    "    '''\n",
    "    n_estimators: jumlah pohon yang akan dibuat\n",
    "    learning_rate: laju pembelajaran\n",
    "    max_depth: kedalaman maksimum pohon\n",
    "    '''\n",
    "    param_space = {\n",
    "        'n_estimators': trial.suggest_int('n_estimators', 50, 250, step=50),\n",
    "        'learning_rate': trial.suggest_float('learning_rate', 0.01, 0.2),\n",
    "        'max_depth': trial.suggest_int('max_depth', 3, 7),\n",
    "    }\n",
    "\n",
    "    # inisialisasi model dengan hyperparameter yang dihasilkan oleh optuna\n",
    "    gb_model = GradientBoostingClassifier(**param_space, validation_fraction=0.1, n_iter_no_change=5, random_state=42)\n",
    "\n",
    "    # Melatih model\n",
    "    gb_model.fit(X_train_resampled, y_train_resampled)\n",
    "\n",
    "    # Memprediksi data uji\n",
    "    y_pred = gb_model.predict(X_test)\n",
    "\n",
    "    # Menghitung akurasi\n",
    "    accuracy = accuracy_score(y_test, y_pred)\n",
    "\n",
    "    return 1.0 - accuracy  # optuna akan mencari nilai minimum, sehingga kita perlu mengubah nilai akurasi menjadi error\n",
    "\n",
    "# melakukan optimasi hyperparameter\n",
    "study = optuna.create_study(direction='minimize')\n",
    "study.optimize(objective, n_trials=50)\n",
    "\n",
    "# Membuat model dengan hyperparameter terbaik yang dihasilkan oleh optuna\n",
    "best_params_optuna = study.best_params\n",
    "best_model_optuna = GradientBoostingClassifier(**best_params_optuna, validation_fraction=0.1, n_iter_no_change=5, random_state=42)\n",
    "\n",
    "# Melatih model\n",
    "best_model_optuna.fit(X_train_resampled, y_train_resampled)\n",
    "\n",
    "# Memprediksi data uji dengan model terbaik\n",
    "y_pred_best_optuna = best_model_optuna.predict(X_test)\n"
   ]
  },
  {
   "cell_type": "code",
   "execution_count": 44,
   "metadata": {},
   "outputs": [
    {
     "name": "stdout",
     "output_type": "stream",
     "text": [
      "Accuracy: 0.9285714285714286\n",
      "Classification Report:\n",
      "              precision    recall  f1-score   support\n",
      "\n",
      "           0       0.96      0.96      0.96       972\n",
      "           1       0.26      0.24      0.25        50\n",
      "\n",
      "    accuracy                           0.93      1022\n",
      "   macro avg       0.61      0.60      0.60      1022\n",
      "weighted avg       0.93      0.93      0.93      1022\n",
      "\n",
      "Confusion Matrix:\n",
      "[[937  35]\n",
      " [ 38  12]]\n"
     ]
    }
   ],
   "source": [
    "# Menampilkan hasil setelah hyperparameter tuning\n",
    "print(f'Accuracy: {accuracy_score(y_test, y_pred_best_optuna)}')\n",
    "print(f'Classification Report:\\n{classification_report(y_test, y_pred_best_optuna)}')\n",
    "print(f'Confusion Matrix:\\n{confusion_matrix(y_test, y_pred_best_optuna)}')"
   ]
  },
  {
   "cell_type": "markdown",
   "metadata": {},
   "source": [
    "Nilai accuracy meningkat cukup signifikan setelah menggunakan teknik hyperparameter tuning, dari 0.83 menjadi 0.92"
   ]
  },
  {
   "cell_type": "code",
   "execution_count": 45,
   "metadata": {},
   "outputs": [
    {
     "data": {
      "text/plain": [
       "['./bin/model.pkl']"
      ]
     },
     "execution_count": 45,
     "metadata": {},
     "output_type": "execute_result"
    }
   ],
   "source": [
    "# save model\n",
    "import joblib\n",
    "\n",
    "joblib.dump(best_model_optuna, '../bin/model.pkl')"
   ]
  }
 ],
 "metadata": {
  "kernelspec": {
   "display_name": "Python 3",
   "language": "python",
   "name": "python3"
  },
  "language_info": {
   "codemirror_mode": {
    "name": "ipython",
    "version": 3
   },
   "file_extension": ".py",
   "mimetype": "text/x-python",
   "name": "python",
   "nbconvert_exporter": "python",
   "pygments_lexer": "ipython3",
   "version": "3.11.11"
  }
 },
 "nbformat": 4,
 "nbformat_minor": 2
}
