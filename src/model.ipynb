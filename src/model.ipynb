{
 "cells": [
  {
   "cell_type": "markdown",
   "metadata": {},
   "source": [
    "# Stroke Prediction AI"
   ]
  },
  {
   "cell_type": "markdown",
   "metadata": {},
   "source": [
    "### Install library yang dibutuhkan"
   ]
  },
  {
   "cell_type": "code",
   "execution_count": 73,
   "metadata": {},
   "outputs": [
    {
     "name": "stdout",
     "output_type": "stream",
     "text": [
      "Requirement already satisfied: optuna in /home/rizkyfauziilmi/Documents/Code/Learn/Kuliah/Stroke-Prediction-AI/.conda/lib/python3.11/site-packages (4.1.0)\n",
      "Requirement already satisfied: pandas in /home/rizkyfauziilmi/Documents/Code/Learn/Kuliah/Stroke-Prediction-AI/.conda/lib/python3.11/site-packages (2.2.3)\n",
      "Requirement already satisfied: scikit-learn in /home/rizkyfauziilmi/Documents/Code/Learn/Kuliah/Stroke-Prediction-AI/.conda/lib/python3.11/site-packages (1.6.0)\n",
      "Requirement already satisfied: matplotlib in /home/rizkyfauziilmi/Documents/Code/Learn/Kuliah/Stroke-Prediction-AI/.conda/lib/python3.11/site-packages (3.10.0)\n",
      "Requirement already satisfied: imblearn in /home/rizkyfauziilmi/Documents/Code/Learn/Kuliah/Stroke-Prediction-AI/.conda/lib/python3.11/site-packages (0.0)\n",
      "Requirement already satisfied: joblib in /home/rizkyfauziilmi/Documents/Code/Learn/Kuliah/Stroke-Prediction-AI/.conda/lib/python3.11/site-packages (1.4.2)\n",
      "Requirement already satisfied: alembic>=1.5.0 in /home/rizkyfauziilmi/Documents/Code/Learn/Kuliah/Stroke-Prediction-AI/.conda/lib/python3.11/site-packages (from optuna) (1.14.0)\n",
      "Requirement already satisfied: colorlog in /home/rizkyfauziilmi/Documents/Code/Learn/Kuliah/Stroke-Prediction-AI/.conda/lib/python3.11/site-packages (from optuna) (6.9.0)\n",
      "Requirement already satisfied: numpy in /home/rizkyfauziilmi/Documents/Code/Learn/Kuliah/Stroke-Prediction-AI/.conda/lib/python3.11/site-packages (from optuna) (2.0.2)\n",
      "Requirement already satisfied: packaging>=20.0 in /home/rizkyfauziilmi/Documents/Code/Learn/Kuliah/Stroke-Prediction-AI/.conda/lib/python3.11/site-packages (from optuna) (24.2)\n",
      "Requirement already satisfied: sqlalchemy>=1.4.2 in /home/rizkyfauziilmi/Documents/Code/Learn/Kuliah/Stroke-Prediction-AI/.conda/lib/python3.11/site-packages (from optuna) (2.0.36)\n",
      "Requirement already satisfied: tqdm in /home/rizkyfauziilmi/Documents/Code/Learn/Kuliah/Stroke-Prediction-AI/.conda/lib/python3.11/site-packages (from optuna) (4.67.1)\n",
      "Requirement already satisfied: PyYAML in /home/rizkyfauziilmi/Documents/Code/Learn/Kuliah/Stroke-Prediction-AI/.conda/lib/python3.11/site-packages (from optuna) (6.0.2)\n",
      "Requirement already satisfied: python-dateutil>=2.8.2 in /home/rizkyfauziilmi/Documents/Code/Learn/Kuliah/Stroke-Prediction-AI/.conda/lib/python3.11/site-packages (from pandas) (2.9.0.post0)\n",
      "Requirement already satisfied: pytz>=2020.1 in /home/rizkyfauziilmi/Documents/Code/Learn/Kuliah/Stroke-Prediction-AI/.conda/lib/python3.11/site-packages (from pandas) (2024.2)\n",
      "Requirement already satisfied: tzdata>=2022.7 in /home/rizkyfauziilmi/Documents/Code/Learn/Kuliah/Stroke-Prediction-AI/.conda/lib/python3.11/site-packages (from pandas) (2024.2)\n",
      "Requirement already satisfied: scipy>=1.6.0 in /home/rizkyfauziilmi/Documents/Code/Learn/Kuliah/Stroke-Prediction-AI/.conda/lib/python3.11/site-packages (from scikit-learn) (1.14.1)\n",
      "Requirement already satisfied: threadpoolctl>=3.1.0 in /home/rizkyfauziilmi/Documents/Code/Learn/Kuliah/Stroke-Prediction-AI/.conda/lib/python3.11/site-packages (from scikit-learn) (3.5.0)\n",
      "Requirement already satisfied: contourpy>=1.0.1 in /home/rizkyfauziilmi/Documents/Code/Learn/Kuliah/Stroke-Prediction-AI/.conda/lib/python3.11/site-packages (from matplotlib) (1.3.1)\n",
      "Requirement already satisfied: cycler>=0.10 in /home/rizkyfauziilmi/Documents/Code/Learn/Kuliah/Stroke-Prediction-AI/.conda/lib/python3.11/site-packages (from matplotlib) (0.12.1)\n",
      "Requirement already satisfied: fonttools>=4.22.0 in /home/rizkyfauziilmi/Documents/Code/Learn/Kuliah/Stroke-Prediction-AI/.conda/lib/python3.11/site-packages (from matplotlib) (4.55.3)\n",
      "Requirement already satisfied: kiwisolver>=1.3.1 in /home/rizkyfauziilmi/Documents/Code/Learn/Kuliah/Stroke-Prediction-AI/.conda/lib/python3.11/site-packages (from matplotlib) (1.4.7)\n",
      "Requirement already satisfied: pillow>=8 in /home/rizkyfauziilmi/Documents/Code/Learn/Kuliah/Stroke-Prediction-AI/.conda/lib/python3.11/site-packages (from matplotlib) (11.0.0)\n",
      "Requirement already satisfied: pyparsing>=2.3.1 in /home/rizkyfauziilmi/Documents/Code/Learn/Kuliah/Stroke-Prediction-AI/.conda/lib/python3.11/site-packages (from matplotlib) (3.2.0)\n",
      "Requirement already satisfied: imbalanced-learn in /home/rizkyfauziilmi/Documents/Code/Learn/Kuliah/Stroke-Prediction-AI/.conda/lib/python3.11/site-packages (from imblearn) (0.13.0)\n",
      "Requirement already satisfied: Mako in /home/rizkyfauziilmi/Documents/Code/Learn/Kuliah/Stroke-Prediction-AI/.conda/lib/python3.11/site-packages (from alembic>=1.5.0->optuna) (1.3.8)\n",
      "Requirement already satisfied: typing-extensions>=4 in /home/rizkyfauziilmi/Documents/Code/Learn/Kuliah/Stroke-Prediction-AI/.conda/lib/python3.11/site-packages (from alembic>=1.5.0->optuna) (4.12.2)\n",
      "Requirement already satisfied: six>=1.5 in /home/rizkyfauziilmi/Documents/Code/Learn/Kuliah/Stroke-Prediction-AI/.conda/lib/python3.11/site-packages (from python-dateutil>=2.8.2->pandas) (1.16.0)\n",
      "Requirement already satisfied: greenlet!=0.4.17 in /home/rizkyfauziilmi/Documents/Code/Learn/Kuliah/Stroke-Prediction-AI/.conda/lib/python3.11/site-packages (from sqlalchemy>=1.4.2->optuna) (3.1.1)\n",
      "Requirement already satisfied: sklearn-compat<1,>=0.1 in /home/rizkyfauziilmi/Documents/Code/Learn/Kuliah/Stroke-Prediction-AI/.conda/lib/python3.11/site-packages (from imbalanced-learn->imblearn) (0.1.1)\n",
      "Requirement already satisfied: MarkupSafe>=0.9.2 in /home/rizkyfauziilmi/Documents/Code/Learn/Kuliah/Stroke-Prediction-AI/.conda/lib/python3.11/site-packages (from Mako->alembic>=1.5.0->optuna) (2.1.5)\n",
      "Note: you may need to restart the kernel to use updated packages.\n"
     ]
    }
   ],
   "source": [
    "%pip install optuna pandas scikit-learn matplotlib imblearn joblib"
   ]
  },
  {
   "cell_type": "markdown",
   "metadata": {},
   "source": [
    "### 1. Siapkan data"
   ]
  },
  {
   "cell_type": "code",
   "execution_count": 74,
   "metadata": {},
   "outputs": [
    {
     "data": {
      "text/html": [
       "<div>\n",
       "<style scoped>\n",
       "    .dataframe tbody tr th:only-of-type {\n",
       "        vertical-align: middle;\n",
       "    }\n",
       "\n",
       "    .dataframe tbody tr th {\n",
       "        vertical-align: top;\n",
       "    }\n",
       "\n",
       "    .dataframe thead th {\n",
       "        text-align: right;\n",
       "    }\n",
       "</style>\n",
       "<table border=\"1\" class=\"dataframe\">\n",
       "  <thead>\n",
       "    <tr style=\"text-align: right;\">\n",
       "      <th></th>\n",
       "      <th>id</th>\n",
       "      <th>gender</th>\n",
       "      <th>age</th>\n",
       "      <th>hypertension</th>\n",
       "      <th>heart_disease</th>\n",
       "      <th>ever_married</th>\n",
       "      <th>work_type</th>\n",
       "      <th>Residence_type</th>\n",
       "      <th>avg_glucose_level</th>\n",
       "      <th>bmi</th>\n",
       "      <th>smoking_status</th>\n",
       "      <th>stroke</th>\n",
       "    </tr>\n",
       "  </thead>\n",
       "  <tbody>\n",
       "    <tr>\n",
       "      <th>0</th>\n",
       "      <td>9046</td>\n",
       "      <td>Male</td>\n",
       "      <td>67.0</td>\n",
       "      <td>0</td>\n",
       "      <td>1</td>\n",
       "      <td>Yes</td>\n",
       "      <td>Private</td>\n",
       "      <td>Urban</td>\n",
       "      <td>228.69</td>\n",
       "      <td>36.6</td>\n",
       "      <td>formerly smoked</td>\n",
       "      <td>1</td>\n",
       "    </tr>\n",
       "    <tr>\n",
       "      <th>1</th>\n",
       "      <td>51676</td>\n",
       "      <td>Female</td>\n",
       "      <td>61.0</td>\n",
       "      <td>0</td>\n",
       "      <td>0</td>\n",
       "      <td>Yes</td>\n",
       "      <td>Self-employed</td>\n",
       "      <td>Rural</td>\n",
       "      <td>202.21</td>\n",
       "      <td>NaN</td>\n",
       "      <td>never smoked</td>\n",
       "      <td>1</td>\n",
       "    </tr>\n",
       "    <tr>\n",
       "      <th>2</th>\n",
       "      <td>31112</td>\n",
       "      <td>Male</td>\n",
       "      <td>80.0</td>\n",
       "      <td>0</td>\n",
       "      <td>1</td>\n",
       "      <td>Yes</td>\n",
       "      <td>Private</td>\n",
       "      <td>Rural</td>\n",
       "      <td>105.92</td>\n",
       "      <td>32.5</td>\n",
       "      <td>never smoked</td>\n",
       "      <td>1</td>\n",
       "    </tr>\n",
       "    <tr>\n",
       "      <th>3</th>\n",
       "      <td>60182</td>\n",
       "      <td>Female</td>\n",
       "      <td>49.0</td>\n",
       "      <td>0</td>\n",
       "      <td>0</td>\n",
       "      <td>Yes</td>\n",
       "      <td>Private</td>\n",
       "      <td>Urban</td>\n",
       "      <td>171.23</td>\n",
       "      <td>34.4</td>\n",
       "      <td>smokes</td>\n",
       "      <td>1</td>\n",
       "    </tr>\n",
       "    <tr>\n",
       "      <th>4</th>\n",
       "      <td>1665</td>\n",
       "      <td>Female</td>\n",
       "      <td>79.0</td>\n",
       "      <td>1</td>\n",
       "      <td>0</td>\n",
       "      <td>Yes</td>\n",
       "      <td>Self-employed</td>\n",
       "      <td>Rural</td>\n",
       "      <td>174.12</td>\n",
       "      <td>24.0</td>\n",
       "      <td>never smoked</td>\n",
       "      <td>1</td>\n",
       "    </tr>\n",
       "  </tbody>\n",
       "</table>\n",
       "</div>"
      ],
      "text/plain": [
       "      id  gender   age  hypertension  heart_disease ever_married  \\\n",
       "0   9046    Male  67.0             0              1          Yes   \n",
       "1  51676  Female  61.0             0              0          Yes   \n",
       "2  31112    Male  80.0             0              1          Yes   \n",
       "3  60182  Female  49.0             0              0          Yes   \n",
       "4   1665  Female  79.0             1              0          Yes   \n",
       "\n",
       "       work_type Residence_type  avg_glucose_level   bmi   smoking_status  \\\n",
       "0        Private          Urban             228.69  36.6  formerly smoked   \n",
       "1  Self-employed          Rural             202.21   NaN     never smoked   \n",
       "2        Private          Rural             105.92  32.5     never smoked   \n",
       "3        Private          Urban             171.23  34.4           smokes   \n",
       "4  Self-employed          Rural             174.12  24.0     never smoked   \n",
       "\n",
       "   stroke  \n",
       "0       1  \n",
       "1       1  \n",
       "2       1  \n",
       "3       1  \n",
       "4       1  "
      ]
     },
     "execution_count": 74,
     "metadata": {},
     "output_type": "execute_result"
    }
   ],
   "source": [
    "import pandas as pd\n",
    "\n",
    "df = pd.read_csv(\"../data/healthcare-dataset-stroke-data.csv\")\n",
    "\n",
    "df.head()"
   ]
  },
  {
   "cell_type": "code",
   "execution_count": 75,
   "metadata": {},
   "outputs": [
    {
     "data": {
      "text/plain": [
       "(5110, 12)"
      ]
     },
     "execution_count": 75,
     "metadata": {},
     "output_type": "execute_result"
    }
   ],
   "source": [
    "df.shape"
   ]
  },
  {
   "cell_type": "markdown",
   "metadata": {},
   "source": [
    "### 2. Lakukan Preprocessing"
   ]
  },
  {
   "cell_type": "code",
   "execution_count": 76,
   "metadata": {},
   "outputs": [
    {
     "name": "stdout",
     "output_type": "stream",
     "text": [
      "id                     0\n",
      "gender                 0\n",
      "age                    0\n",
      "hypertension           0\n",
      "heart_disease          0\n",
      "ever_married           0\n",
      "work_type              0\n",
      "Residence_type         0\n",
      "avg_glucose_level      0\n",
      "bmi                  201\n",
      "smoking_status         0\n",
      "stroke                 0\n",
      "dtype: int64\n"
     ]
    }
   ],
   "source": [
    "# Cek nilai yang hilang\n",
    "print(df.isnull().sum())"
   ]
  },
  {
   "cell_type": "markdown",
   "metadata": {},
   "source": [
    "Terdapat nilai yang hilang pada kolom BMI, sehingga kita akan mengisi nilai tersebut dengan nilai rata-rata dari kolom tersebut."
   ]
  },
  {
   "cell_type": "code",
   "execution_count": 77,
   "metadata": {},
   "outputs": [
    {
     "name": "stdout",
     "output_type": "stream",
     "text": [
      "id                   0\n",
      "gender               0\n",
      "age                  0\n",
      "hypertension         0\n",
      "heart_disease        0\n",
      "ever_married         0\n",
      "work_type            0\n",
      "Residence_type       0\n",
      "avg_glucose_level    0\n",
      "bmi                  0\n",
      "smoking_status       0\n",
      "stroke               0\n",
      "dtype: int64\n"
     ]
    }
   ],
   "source": [
    "from sklearn.impute import SimpleImputer\n",
    "\n",
    "# Mengisi nilai yang hilang pada kolom bmi dengan nilai rata-rata\n",
    "imputer = SimpleImputer(strategy='mean')\n",
    "df['bmi'] = imputer.fit_transform(df[['bmi']])\n",
    "\n",
    "print(df.isnull().sum())"
   ]
  },
  {
   "cell_type": "code",
   "execution_count": 78,
   "metadata": {},
   "outputs": [
    {
     "name": "stdout",
     "output_type": "stream",
     "text": [
      "gender: ['Male' 'Female' 'Other']\n",
      "ever_married: ['Yes' 'No']\n",
      "work_type: ['Private' 'Self-employed' 'Govt_job' 'children' 'Never_worked']\n",
      "Residence_type: ['Urban' 'Rural']\n",
      "smoking_status: ['formerly smoked' 'never smoked' 'smokes' 'Unknown']\n"
     ]
    }
   ],
   "source": [
    "# tampilkan semua kemungkinan nilai dari setiap kolom\n",
    "for col in ['gender', 'ever_married', 'work_type', 'Residence_type', 'smoking_status']:\n",
    "    print(f'{col}: {df[col].unique()}')"
   ]
  },
  {
   "cell_type": "markdown",
   "metadata": {},
   "source": [
    "Terdapat kolom yang berisi data kategorikal, yaitu kolom 'gender', 'ever_married', 'work_type', 'Residence_type', 'smoking_status'. Kita akan melakukan encoding terhadap kolom tersebut."
   ]
  },
  {
   "cell_type": "code",
   "execution_count": 79,
   "metadata": {},
   "outputs": [
    {
     "name": "stdout",
     "output_type": "stream",
     "text": [
      "gender: [1 0 2]\n",
      "ever_married: [1 0]\n",
      "work_type: [2 3 0 4 1]\n",
      "Residence_type: [1 0]\n",
      "smoking_status: [1 2 3 0]\n"
     ]
    }
   ],
   "source": [
    "from sklearn.preprocessing import LabelEncoder\n",
    "\n",
    "# Melakukan label encoding, mengubah nilai kategori menjadi nilai numerik\n",
    "label_encoders = {}\n",
    "categorical_columns = ['gender', 'ever_married', 'work_type', 'Residence_type', 'smoking_status']\n",
    "\n",
    "for col in categorical_columns:\n",
    "    le = LabelEncoder()\n",
    "    df[col] = le.fit_transform(df[col])\n",
    "    label_encoders[col] = le\n",
    "    \n",
    "# Menampilkan hasil label encoding\n",
    "for col in categorical_columns:\n",
    "    print(f'{col}: {df[col].unique()}')\n",
    "    "
   ]
  },
  {
   "cell_type": "code",
   "execution_count": 80,
   "metadata": {},
   "outputs": [
    {
     "data": {
      "text/html": [
       "<div>\n",
       "<style scoped>\n",
       "    .dataframe tbody tr th:only-of-type {\n",
       "        vertical-align: middle;\n",
       "    }\n",
       "\n",
       "    .dataframe tbody tr th {\n",
       "        vertical-align: top;\n",
       "    }\n",
       "\n",
       "    .dataframe thead th {\n",
       "        text-align: right;\n",
       "    }\n",
       "</style>\n",
       "<table border=\"1\" class=\"dataframe\">\n",
       "  <thead>\n",
       "    <tr style=\"text-align: right;\">\n",
       "      <th></th>\n",
       "      <th>id</th>\n",
       "      <th>gender</th>\n",
       "      <th>age</th>\n",
       "      <th>hypertension</th>\n",
       "      <th>heart_disease</th>\n",
       "      <th>ever_married</th>\n",
       "      <th>work_type</th>\n",
       "      <th>Residence_type</th>\n",
       "      <th>avg_glucose_level</th>\n",
       "      <th>bmi</th>\n",
       "      <th>smoking_status</th>\n",
       "      <th>stroke</th>\n",
       "    </tr>\n",
       "  </thead>\n",
       "  <tbody>\n",
       "    <tr>\n",
       "      <th>0</th>\n",
       "      <td>9046</td>\n",
       "      <td>1</td>\n",
       "      <td>67.0</td>\n",
       "      <td>0</td>\n",
       "      <td>1</td>\n",
       "      <td>1</td>\n",
       "      <td>2</td>\n",
       "      <td>1</td>\n",
       "      <td>228.69</td>\n",
       "      <td>36.600000</td>\n",
       "      <td>1</td>\n",
       "      <td>1</td>\n",
       "    </tr>\n",
       "    <tr>\n",
       "      <th>1</th>\n",
       "      <td>51676</td>\n",
       "      <td>0</td>\n",
       "      <td>61.0</td>\n",
       "      <td>0</td>\n",
       "      <td>0</td>\n",
       "      <td>1</td>\n",
       "      <td>3</td>\n",
       "      <td>0</td>\n",
       "      <td>202.21</td>\n",
       "      <td>28.893237</td>\n",
       "      <td>2</td>\n",
       "      <td>1</td>\n",
       "    </tr>\n",
       "    <tr>\n",
       "      <th>2</th>\n",
       "      <td>31112</td>\n",
       "      <td>1</td>\n",
       "      <td>80.0</td>\n",
       "      <td>0</td>\n",
       "      <td>1</td>\n",
       "      <td>1</td>\n",
       "      <td>2</td>\n",
       "      <td>0</td>\n",
       "      <td>105.92</td>\n",
       "      <td>32.500000</td>\n",
       "      <td>2</td>\n",
       "      <td>1</td>\n",
       "    </tr>\n",
       "    <tr>\n",
       "      <th>3</th>\n",
       "      <td>60182</td>\n",
       "      <td>0</td>\n",
       "      <td>49.0</td>\n",
       "      <td>0</td>\n",
       "      <td>0</td>\n",
       "      <td>1</td>\n",
       "      <td>2</td>\n",
       "      <td>1</td>\n",
       "      <td>171.23</td>\n",
       "      <td>34.400000</td>\n",
       "      <td>3</td>\n",
       "      <td>1</td>\n",
       "    </tr>\n",
       "    <tr>\n",
       "      <th>4</th>\n",
       "      <td>1665</td>\n",
       "      <td>0</td>\n",
       "      <td>79.0</td>\n",
       "      <td>1</td>\n",
       "      <td>0</td>\n",
       "      <td>1</td>\n",
       "      <td>3</td>\n",
       "      <td>0</td>\n",
       "      <td>174.12</td>\n",
       "      <td>24.000000</td>\n",
       "      <td>2</td>\n",
       "      <td>1</td>\n",
       "    </tr>\n",
       "  </tbody>\n",
       "</table>\n",
       "</div>"
      ],
      "text/plain": [
       "      id  gender   age  hypertension  heart_disease  ever_married  work_type  \\\n",
       "0   9046       1  67.0             0              1             1          2   \n",
       "1  51676       0  61.0             0              0             1          3   \n",
       "2  31112       1  80.0             0              1             1          2   \n",
       "3  60182       0  49.0             0              0             1          2   \n",
       "4   1665       0  79.0             1              0             1          3   \n",
       "\n",
       "   Residence_type  avg_glucose_level        bmi  smoking_status  stroke  \n",
       "0               1             228.69  36.600000               1       1  \n",
       "1               0             202.21  28.893237               2       1  \n",
       "2               0             105.92  32.500000               2       1  \n",
       "3               1             171.23  34.400000               3       1  \n",
       "4               0             174.12  24.000000               2       1  "
      ]
     },
     "execution_count": 80,
     "metadata": {},
     "output_type": "execute_result"
    }
   ],
   "source": [
    "df.head()"
   ]
  },
  {
   "cell_type": "markdown",
   "metadata": {},
   "source": [
    "Hapus kolom 'id' karena tidak relevan dengan model."
   ]
  },
  {
   "cell_type": "code",
   "execution_count": 81,
   "metadata": {},
   "outputs": [
    {
     "data": {
      "text/html": [
       "<div>\n",
       "<style scoped>\n",
       "    .dataframe tbody tr th:only-of-type {\n",
       "        vertical-align: middle;\n",
       "    }\n",
       "\n",
       "    .dataframe tbody tr th {\n",
       "        vertical-align: top;\n",
       "    }\n",
       "\n",
       "    .dataframe thead th {\n",
       "        text-align: right;\n",
       "    }\n",
       "</style>\n",
       "<table border=\"1\" class=\"dataframe\">\n",
       "  <thead>\n",
       "    <tr style=\"text-align: right;\">\n",
       "      <th></th>\n",
       "      <th>gender</th>\n",
       "      <th>age</th>\n",
       "      <th>hypertension</th>\n",
       "      <th>heart_disease</th>\n",
       "      <th>ever_married</th>\n",
       "      <th>work_type</th>\n",
       "      <th>Residence_type</th>\n",
       "      <th>avg_glucose_level</th>\n",
       "      <th>bmi</th>\n",
       "      <th>smoking_status</th>\n",
       "      <th>stroke</th>\n",
       "    </tr>\n",
       "  </thead>\n",
       "  <tbody>\n",
       "    <tr>\n",
       "      <th>0</th>\n",
       "      <td>1</td>\n",
       "      <td>67.0</td>\n",
       "      <td>0</td>\n",
       "      <td>1</td>\n",
       "      <td>1</td>\n",
       "      <td>2</td>\n",
       "      <td>1</td>\n",
       "      <td>228.69</td>\n",
       "      <td>36.600000</td>\n",
       "      <td>1</td>\n",
       "      <td>1</td>\n",
       "    </tr>\n",
       "    <tr>\n",
       "      <th>1</th>\n",
       "      <td>0</td>\n",
       "      <td>61.0</td>\n",
       "      <td>0</td>\n",
       "      <td>0</td>\n",
       "      <td>1</td>\n",
       "      <td>3</td>\n",
       "      <td>0</td>\n",
       "      <td>202.21</td>\n",
       "      <td>28.893237</td>\n",
       "      <td>2</td>\n",
       "      <td>1</td>\n",
       "    </tr>\n",
       "    <tr>\n",
       "      <th>2</th>\n",
       "      <td>1</td>\n",
       "      <td>80.0</td>\n",
       "      <td>0</td>\n",
       "      <td>1</td>\n",
       "      <td>1</td>\n",
       "      <td>2</td>\n",
       "      <td>0</td>\n",
       "      <td>105.92</td>\n",
       "      <td>32.500000</td>\n",
       "      <td>2</td>\n",
       "      <td>1</td>\n",
       "    </tr>\n",
       "    <tr>\n",
       "      <th>3</th>\n",
       "      <td>0</td>\n",
       "      <td>49.0</td>\n",
       "      <td>0</td>\n",
       "      <td>0</td>\n",
       "      <td>1</td>\n",
       "      <td>2</td>\n",
       "      <td>1</td>\n",
       "      <td>171.23</td>\n",
       "      <td>34.400000</td>\n",
       "      <td>3</td>\n",
       "      <td>1</td>\n",
       "    </tr>\n",
       "    <tr>\n",
       "      <th>4</th>\n",
       "      <td>0</td>\n",
       "      <td>79.0</td>\n",
       "      <td>1</td>\n",
       "      <td>0</td>\n",
       "      <td>1</td>\n",
       "      <td>3</td>\n",
       "      <td>0</td>\n",
       "      <td>174.12</td>\n",
       "      <td>24.000000</td>\n",
       "      <td>2</td>\n",
       "      <td>1</td>\n",
       "    </tr>\n",
       "  </tbody>\n",
       "</table>\n",
       "</div>"
      ],
      "text/plain": [
       "   gender   age  hypertension  heart_disease  ever_married  work_type  \\\n",
       "0       1  67.0             0              1             1          2   \n",
       "1       0  61.0             0              0             1          3   \n",
       "2       1  80.0             0              1             1          2   \n",
       "3       0  49.0             0              0             1          2   \n",
       "4       0  79.0             1              0             1          3   \n",
       "\n",
       "   Residence_type  avg_glucose_level        bmi  smoking_status  stroke  \n",
       "0               1             228.69  36.600000               1       1  \n",
       "1               0             202.21  28.893237               2       1  \n",
       "2               0             105.92  32.500000               2       1  \n",
       "3               1             171.23  34.400000               3       1  \n",
       "4               0             174.12  24.000000               2       1  "
      ]
     },
     "execution_count": 81,
     "metadata": {},
     "output_type": "execute_result"
    }
   ],
   "source": [
    "# Hapus kolom id\n",
    "df.drop(columns=['id'], inplace=True)\n",
    "\n",
    "# Menampilkan data setelah id dihapus\n",
    "df.head()"
   ]
  },
  {
   "cell_type": "markdown",
   "metadata": {},
   "source": [
    "Fitur seperti age, avg_glucose_level, dan bmi memiliki skala yang berbeda. Gunakan standarisasi untuk mengubah fitur-fitur tersebut menjadi skala yang sama."
   ]
  },
  {
   "cell_type": "code",
   "execution_count": 82,
   "metadata": {},
   "outputs": [
    {
     "data": {
      "text/html": [
       "<div>\n",
       "<style scoped>\n",
       "    .dataframe tbody tr th:only-of-type {\n",
       "        vertical-align: middle;\n",
       "    }\n",
       "\n",
       "    .dataframe tbody tr th {\n",
       "        vertical-align: top;\n",
       "    }\n",
       "\n",
       "    .dataframe thead th {\n",
       "        text-align: right;\n",
       "    }\n",
       "</style>\n",
       "<table border=\"1\" class=\"dataframe\">\n",
       "  <thead>\n",
       "    <tr style=\"text-align: right;\">\n",
       "      <th></th>\n",
       "      <th>gender</th>\n",
       "      <th>age</th>\n",
       "      <th>hypertension</th>\n",
       "      <th>heart_disease</th>\n",
       "      <th>ever_married</th>\n",
       "      <th>work_type</th>\n",
       "      <th>Residence_type</th>\n",
       "      <th>avg_glucose_level</th>\n",
       "      <th>bmi</th>\n",
       "      <th>smoking_status</th>\n",
       "      <th>stroke</th>\n",
       "    </tr>\n",
       "  </thead>\n",
       "  <tbody>\n",
       "    <tr>\n",
       "      <th>0</th>\n",
       "      <td>1</td>\n",
       "      <td>0.816895</td>\n",
       "      <td>0</td>\n",
       "      <td>1</td>\n",
       "      <td>1</td>\n",
       "      <td>2</td>\n",
       "      <td>1</td>\n",
       "      <td>0.801265</td>\n",
       "      <td>0.301260</td>\n",
       "      <td>1</td>\n",
       "      <td>1</td>\n",
       "    </tr>\n",
       "    <tr>\n",
       "      <th>1</th>\n",
       "      <td>0</td>\n",
       "      <td>0.743652</td>\n",
       "      <td>0</td>\n",
       "      <td>0</td>\n",
       "      <td>1</td>\n",
       "      <td>3</td>\n",
       "      <td>0</td>\n",
       "      <td>0.679023</td>\n",
       "      <td>0.212981</td>\n",
       "      <td>2</td>\n",
       "      <td>1</td>\n",
       "    </tr>\n",
       "    <tr>\n",
       "      <th>2</th>\n",
       "      <td>1</td>\n",
       "      <td>0.975586</td>\n",
       "      <td>0</td>\n",
       "      <td>1</td>\n",
       "      <td>1</td>\n",
       "      <td>2</td>\n",
       "      <td>0</td>\n",
       "      <td>0.234512</td>\n",
       "      <td>0.254296</td>\n",
       "      <td>2</td>\n",
       "      <td>1</td>\n",
       "    </tr>\n",
       "    <tr>\n",
       "      <th>3</th>\n",
       "      <td>0</td>\n",
       "      <td>0.597168</td>\n",
       "      <td>0</td>\n",
       "      <td>0</td>\n",
       "      <td>1</td>\n",
       "      <td>2</td>\n",
       "      <td>1</td>\n",
       "      <td>0.536008</td>\n",
       "      <td>0.276060</td>\n",
       "      <td>3</td>\n",
       "      <td>1</td>\n",
       "    </tr>\n",
       "    <tr>\n",
       "      <th>4</th>\n",
       "      <td>0</td>\n",
       "      <td>0.963379</td>\n",
       "      <td>1</td>\n",
       "      <td>0</td>\n",
       "      <td>1</td>\n",
       "      <td>3</td>\n",
       "      <td>0</td>\n",
       "      <td>0.549349</td>\n",
       "      <td>0.156930</td>\n",
       "      <td>2</td>\n",
       "      <td>1</td>\n",
       "    </tr>\n",
       "  </tbody>\n",
       "</table>\n",
       "</div>"
      ],
      "text/plain": [
       "   gender       age  hypertension  heart_disease  ever_married  work_type  \\\n",
       "0       1  0.816895             0              1             1          2   \n",
       "1       0  0.743652             0              0             1          3   \n",
       "2       1  0.975586             0              1             1          2   \n",
       "3       0  0.597168             0              0             1          2   \n",
       "4       0  0.963379             1              0             1          3   \n",
       "\n",
       "   Residence_type  avg_glucose_level       bmi  smoking_status  stroke  \n",
       "0               1           0.801265  0.301260               1       1  \n",
       "1               0           0.679023  0.212981               2       1  \n",
       "2               0           0.234512  0.254296               2       1  \n",
       "3               1           0.536008  0.276060               3       1  \n",
       "4               0           0.549349  0.156930               2       1  "
      ]
     },
     "execution_count": 82,
     "metadata": {},
     "output_type": "execute_result"
    }
   ],
   "source": [
    "from sklearn.preprocessing import MinMaxScaler\n",
    "\n",
    "scaler = MinMaxScaler() \n",
    "df[[\"age\", \"avg_glucose_level\", \"bmi\"]] = scaler.fit_transform(df[[\"age\", \"avg_glucose_level\", \"bmi\"]])\n",
    "\n",
    "df.head()"
   ]
  },
  {
   "cell_type": "markdown",
   "metadata": {},
   "source": [
    "Pisahkan kolom Features dan Target."
   ]
  },
  {
   "cell_type": "code",
   "execution_count": 83,
   "metadata": {},
   "outputs": [],
   "source": [
    "X = df.drop(columns=['stroke'], axis=1)\n",
    "y = df['stroke']"
   ]
  },
  {
   "cell_type": "markdown",
   "metadata": {},
   "source": [
    "Data mengalamai imbalance, sehingga kita akan melakukan SMOTE untuk menyeimbangkan data."
   ]
  },
  {
   "cell_type": "code",
   "execution_count": 84,
   "metadata": {},
   "outputs": [
    {
     "data": {
      "image/png": "[encoded data removed]",
      "text/plain": [
       "<Figure size 600x400 with 1 Axes>"
      ]
     },
     "metadata": {},
     "output_type": "display_data"
    }
   ],
   "source": [
    "import matplotlib.pyplot as plt\n",
    "\n",
    "# Menampilkan distribusi target\n",
    "plt.figure(figsize=(6, 4))\n",
    "pd.Series(y).value_counts().plot(\n",
    "    kind=\"bar\", color=[\"skyblue\", \"salmon\"], title=\"Target Distribution\"\n",
    ")\n",
    "plt.xticks([0, 1], [\"No Stroke\", \"Stroke\"], rotation=0)\n",
    "plt.xlabel(\"Target\")\n",
    "plt.ylabel(\"Count\")\n",
    "plt.show()"
   ]
  },
  {
   "cell_type": "code",
   "execution_count": 85,
   "metadata": {},
   "outputs": [
    {
     "data": {
      "image/png": "[encoded data removed]",
      "text/plain": [
       "<Figure size 600x400 with 1 Axes>"
      ]
     },
     "metadata": {},
     "output_type": "display_data"
    }
   ],
   "source": [
    "from imblearn.over_sampling import SMOTE\n",
    "from imblearn.under_sampling import RandomUnderSampler\n",
    "from imblearn.pipeline import Pipeline\n",
    "\n",
    "# Resampling menggunakan SMOTE dan RandomUnderSampler\n",
    "over = SMOTE(sampling_strategy=1)\n",
    "under = RandomUnderSampler(sampling_strategy=0.1)\n",
    "\n",
    "# Menyusun pipeline\n",
    "steps = [(\"under\", under), (\"over\", over)]\n",
    "pipeline = Pipeline(steps=steps)\n",
    "X, y = pipeline.fit_resample(X, y)\n",
    "\n",
    "# Menampilkan distribusi target setelah resampling\n",
    "plt.figure(figsize=(6, 4))\n",
    "pd.Series(y).value_counts().plot(\n",
    "    kind=\"bar\", color=[\"skyblue\", \"salmon\"], title=\"Target Distribution\"\n",
    ")\n",
    "plt.xticks([0, 1], [\"No Stroke\", \"Stroke\"], rotation=0)\n",
    "plt.xlabel(\"Target\")\n",
    "plt.ylabel(\"Count\")\n",
    "plt.show()"
   ]
  },
  {
   "cell_type": "markdown",
   "metadata": {},
   "source": [
    "### 3. Split data"
   ]
  },
  {
   "cell_type": "markdown",
   "metadata": {},
   "source": [
    "kita akan membagi data menjadi data training dan data testing dengan perbandingan 80:20."
   ]
  },
  {
   "cell_type": "code",
   "execution_count": 86,
   "metadata": {},
   "outputs": [],
   "source": [
    "from sklearn.model_selection import train_test_split\n",
    "\n",
    "# Split data menjadi data train dan data test dengan perbandingan 85:15\n",
    "X_train, X_test, y_train, y_test = train_test_split(X, y, test_size=0.15, random_state=2)"
   ]
  },
  {
   "cell_type": "markdown",
   "metadata": {},
   "source": [
    "### 4. Mebuat Model\n",
    "\n",
    "Kita akan menggunakan model Gradient Boosting Classifier.\n",
    "- Kinerja Tinggi: Mampu menangkap pola kompleks dalam data medis yang seringkali non-linear.\n",
    "- Robust terhadap Outlier: Efektif menghadapi data dengan outlier, seperti nilai ekstrim tekanan darah atau kadar glukosa.\n",
    "- Kemampuan Fitur Importance: Membantu mengidentifikasi faktor risiko utama stroke, seperti usia, hipertensi, dan diabetes.\n",
    "- Fleksibilitas: Cocok untuk dataset kecil hingga besar, tanpa memerlukan banyak preprocessing.\n",
    "- Pengendalian Overfitting: Hyperparameter seperti learning rate dan n_estimators memungkinkan kontrol yang baik terhadap overfitting.\n",
    "- Iterasi Bertahap: Meningkatkan performa secara bertahap dengan meminimalkan kesalahan model sebelumnya.\n",
    "\n",
    "GridSearchCV digunakan untuk mencari hyperparameter terbaik untuk model Gradient Boosting Classifier."
   ]
  },
  {
   "cell_type": "code",
   "execution_count": null,
   "metadata": {},
   "outputs": [
    {
     "name": "stderr",
     "output_type": "stream",
     "text": [
      "/home/rizkyfauziilmi/Documents/Code/Learn/Kuliah/Stroke-Prediction-AI/.conda/lib/python3.11/site-packages/tqdm/auto.py:21: TqdmWarning: IProgress not found. Please update jupyter and ipywidgets. See https://ipywidgets.readthedocs.io/en/stable/user_install.html\n",
      "  from .autonotebook import tqdm as notebook_tqdm\n",
      "[I 2024-12-22 09:42:11,720] A new study created in memory with name: no-name-4977af5e-e591-4777-8cbd-9ae7519d4c70\n"
     ]
    },
    {
     "name": "stderr",
     "output_type": "stream",
     "text": [
      "[I 2024-12-22 09:42:21,879] Trial 0 finished with value: 0.8674668765577855 and parameters: {'n_estimators': 411, 'learning_rate': 0.14490966307638384, 'max_depth': 3, 'max_features': 'sqrt', 'subsample': 0.9644126305370775, 'min_samples_split': 5, 'min_samples_leaf': 4}. Best is trial 0 with value: 0.8674668765577855.\n",
      "[I 2024-12-22 09:42:34,732] Trial 1 finished with value: 0.8899101543202124 and parameters: {'n_estimators': 136, 'learning_rate': 0.11137365299595771, 'max_depth': 9, 'max_features': 'log2', 'subsample': 0.8804588878213578, 'min_samples_split': 10, 'min_samples_leaf': 4}. Best is trial 1 with value: 0.8899101543202124.\n",
      "[I 2024-12-22 09:43:10,896] Trial 2 finished with value: 0.9066860927595937 and parameters: {'n_estimators': 315, 'learning_rate': 0.1889143305394344, 'max_depth': 9, 'max_features': 'sqrt', 'subsample': 0.9393537640220206, 'min_samples_split': 5, 'min_samples_leaf': 2}. Best is trial 2 with value: 0.9066860927595937.\n",
      "[I 2024-12-22 09:43:13,758] Trial 3 finished with value: 0.8296686120670647 and parameters: {'n_estimators': 120, 'learning_rate': 0.12239239141165062, 'max_depth': 3, 'max_features': 'log2', 'subsample': 0.9848609854840497, 'min_samples_split': 3, 'min_samples_leaf': 4}. Best is trial 2 with value: 0.9066860927595937.\n",
      "[I 2024-12-22 09:43:22,119] Trial 4 finished with value: 0.8738487388390677 and parameters: {'n_estimators': 214, 'learning_rate': 0.10962906928620648, 'max_depth': 4, 'max_features': 5, 'subsample': 0.9753990950384804, 'min_samples_split': 7, 'min_samples_leaf': 3}. Best is trial 2 with value: 0.9066860927595937.\n",
      "[I 2024-12-22 09:43:31,753] Trial 5 finished with value: 0.8866018572014702 and parameters: {'n_estimators': 283, 'learning_rate': 0.18013710057291926, 'max_depth': 4, 'max_features': 'log2', 'subsample': 0.9194270816662772, 'min_samples_split': 9, 'min_samples_leaf': 1}. Best is trial 2 with value: 0.9066860927595937.\n",
      "[I 2024-12-22 09:43:44,843] Trial 6 finished with value: 0.8944021591990644 and parameters: {'n_estimators': 467, 'learning_rate': 0.17358599703539423, 'max_depth': 3, 'max_features': 5, 'subsample': 0.8364330740172675, 'min_samples_split': 6, 'min_samples_leaf': 4}. Best is trial 2 with value: 0.9066860927595937.\n",
      "[I 2024-12-22 09:43:51,591] Trial 7 finished with value: 0.8334516761982913 and parameters: {'n_estimators': 235, 'learning_rate': 0.05879643414788406, 'max_depth': 3, 'max_features': 5, 'subsample': 0.9020159511620276, 'min_samples_split': 4, 'min_samples_leaf': 2}. Best is trial 2 with value: 0.9066860927595937.\n",
      "[I 2024-12-22 09:44:27,815] Trial 8 finished with value: 0.8960564473137007 and parameters: {'n_estimators': 338, 'learning_rate': 0.029481689730292006, 'max_depth': 7, 'max_features': None, 'subsample': 0.996564867747991, 'min_samples_split': 2, 'min_samples_leaf': 2}. Best is trial 2 with value: 0.9066860927595937.\n",
      "[I 2024-12-22 09:44:35,439] Trial 9 finished with value: 0.853060586522869 and parameters: {'n_estimators': 140, 'learning_rate': 0.0474612734709972, 'max_depth': 5, 'max_features': 5, 'subsample': 0.9637012288986206, 'min_samples_split': 7, 'min_samples_leaf': 2}. Best is trial 2 with value: 0.9066860927595937.\n",
      "[I 2024-12-22 09:45:12,624] Trial 10 finished with value: 0.903850329769092 and parameters: {'n_estimators': 366, 'learning_rate': 0.19793925465909426, 'max_depth': 9, 'max_features': 'sqrt', 'subsample': 0.8094557675324277, 'min_samples_split': 8, 'min_samples_leaf': 1}. Best is trial 2 with value: 0.9066860927595937.\n",
      "[I 2024-12-22 09:45:46,404] Trial 11 finished with value: 0.9033791911935045 and parameters: {'n_estimators': 354, 'learning_rate': 0.19402921452732458, 'max_depth': 9, 'max_features': 'sqrt', 'subsample': 0.813448421996855, 'min_samples_split': 8, 'min_samples_leaf': 1}. Best is trial 2 with value: 0.9066860927595937.\n",
      "[I 2024-12-22 09:46:12,569] Trial 12 finished with value: 0.9029044241810199 and parameters: {'n_estimators': 397, 'learning_rate': 0.15271572494164906, 'max_depth': 7, 'max_features': 'sqrt', 'subsample': 0.9314466321202198, 'min_samples_split': 5, 'min_samples_leaf': 1}. Best is trial 2 with value: 0.9066860927595937.\n",
      "[I 2024-12-22 09:46:37,839] Trial 13 finished with value: 0.903611690265462 and parameters: {'n_estimators': 287, 'learning_rate': 0.19745935070005263, 'max_depth': 8, 'max_features': 'sqrt', 'subsample': 0.8607678856761404, 'min_samples_split': 8, 'min_samples_leaf': 3}. Best is trial 2 with value: 0.9066860927595937.\n",
      "[I 2024-12-22 09:47:20,184] Trial 14 finished with value: 0.9031402725793443 and parameters: {'n_estimators': 499, 'learning_rate': 0.07804803988952333, 'max_depth': 8, 'max_features': 'sqrt', 'subsample': 0.8030185964810063, 'min_samples_split': 6, 'min_samples_leaf': 1}. Best is trial 2 with value: 0.9066860927595937.\n",
      "[I 2024-12-22 09:48:09,019] Trial 15 finished with value: 0.9173154590949562 and parameters: {'n_estimators': 405, 'learning_rate': 0.16145548742404142, 'max_depth': 8, 'max_features': None, 'subsample': 0.9380964320787298, 'min_samples_split': 10, 'min_samples_leaf': 2}. Best is trial 15 with value: 0.9173154590949562.\n",
      "[I 2024-12-22 09:48:53,883] Trial 16 finished with value: 0.9144824872097599 and parameters: {'n_estimators': 448, 'learning_rate': 0.14526503051477502, 'max_depth': 7, 'max_features': None, 'subsample': 0.9398396966819821, 'min_samples_split': 10, 'min_samples_leaf': 3}. Best is trial 15 with value: 0.9173154590949562.\n"
     ]
    }
   ],
   "source": [
    "import optuna\n",
    "from sklearn.ensemble import GradientBoostingClassifier\n",
    "from sklearn.model_selection import cross_val_score\n",
    "\n",
    "# Define the objective function\n",
    "def objective(trial):\n",
    "    # Suggest hyperparameters\n",
    "    n_estimators = trial.suggest_int(\"n_estimators\", 100, 500)\n",
    "    learning_rate = trial.suggest_float(\"learning_rate\", 0.01, 0.2)\n",
    "    max_depth = trial.suggest_int(\"max_depth\", 3, 9)\n",
    "    max_features = trial.suggest_categorical(\"max_features\", [None, \"sqrt\", \"log2\", 5])\n",
    "    subsample = trial.suggest_float(\"subsample\", 0.8, 1.0)\n",
    "    min_samples_split = trial.suggest_int(\"min_samples_split\", 2, 10)\n",
    "    min_samples_leaf = trial.suggest_int(\"min_samples_leaf\", 1, 4)\n",
    "    \n",
    "    # Create the model\n",
    "    gb_clf = GradientBoostingClassifier(\n",
    "        n_estimators=n_estimators,\n",
    "        learning_rate=learning_rate,\n",
    "        max_depth=max_depth,\n",
    "        max_features=max_features,\n",
    "        subsample=subsample,\n",
    "        min_samples_split=min_samples_split,\n",
    "        min_samples_leaf=min_samples_leaf,\n",
    "    )\n",
    "    \n",
    "    # Evaluate the model using cross-validation\n",
    "    score = cross_val_score(gb_clf, X_train, y_train, cv=5, scoring=\"f1_score\").mean()\n",
    "    return score\n",
    "\n",
    "# Create a study and optimize the objective function\n",
    "study = optuna.create_study(direction=\"maximize\")\n",
    "study.optimize(objective, n_trials=100)\n",
    "\n",
    "# Get the best parameters and best score\n",
    "print(\"Best parameters:\", study.best_params)\n",
    "print(\"Best cross-validation score:\", study.best_value)\n",
    "\n",
    "# Train the best model on the training data\n",
    "best_model = GradientBoostingClassifier(**study.best_params, random_state=100)\n",
    "best_model.fit(X_train, y_train)\n",
    "\n",
    "# Predict on the test data\n",
    "y_pred = best_model.predict(X_test)"
   ]
  },
  {
   "cell_type": "markdown",
   "metadata": {},
   "source": [
    "### 5. Evaluasi Model"
   ]
  },
  {
   "cell_type": "code",
   "execution_count": 65,
   "metadata": {},
   "outputs": [
    {
     "name": "stdout",
     "output_type": "stream",
     "text": [
      "Accuracy: 0.9275929549902152\n",
      "\n",
      "Classification Report:\n",
      "               precision    recall  f1-score   support\n",
      "\n",
      "           0       0.95      0.97      0.96       972\n",
      "           1       0.12      0.08      0.10        50\n",
      "\n",
      "    accuracy                           0.93      1022\n",
      "   macro avg       0.54      0.53      0.53      1022\n",
      "weighted avg       0.91      0.93      0.92      1022\n",
      "\n",
      "\n",
      "Confusion Matrix:\n",
      " [[944  28]\n",
      " [ 46   4]]\n"
     ]
    }
   ],
   "source": [
    "from sklearn.metrics import accuracy_score, classification_report, confusion_matrix\n",
    "\n",
    "# Menampilkan hasil\n",
    "print(\"Accuracy:\", accuracy_score(y_test, y_pred))\n",
    "print(\"\\nClassification Report:\\n\", classification_report(y_test, y_pred))\n",
    "print(\"\\nConfusion Matrix:\\n\", confusion_matrix(y_test, y_pred))"
   ]
  },
  {
   "cell_type": "markdown",
   "metadata": {},
   "source": [
    "**Analisis:**\n",
    "\n",
    "1. **Accuracy**: Model memiliki akurasi yang tinggi sebesar 93.74%. Ini menunjukkan bahwa model mampu mengklasifikasikan sebagian besar data dengan benar.\n",
    "\n",
    "2. **Precision, Recall, dan F1-Score**:\n",
    "   - Untuk kelas 0 (No Stroke):\n",
    "     - **Precision**: 0.96, menunjukkan bahwa 96% dari prediksi \"No Stroke\" adalah benar.\n",
    "     - **Recall**: 0.98, menunjukkan bahwa 98% dari semua kasus \"No Stroke\" berhasil terdeteksi oleh model.\n",
    "     - **F1-Score**: 0.97, menunjukkan keseimbangan antara precision dan recall yang sangat baik.\n",
    "   - Untuk kelas 1 (Stroke):\n",
    "     - **Precision**: 0.27, menunjukkan bahwa hanya 27% dari prediksi \"Stroke\" yang benar.\n",
    "     - **Recall**: 0.16, menunjukkan bahwa hanya 16% dari semua kasus \"Stroke\" berhasil terdeteksi oleh model.\n",
    "     - **F1-Score**: 0.20, menunjukkan bahwa model kurang baik dalam mendeteksi kasus \"Stroke\".\n",
    "\n",
    "3. **Confusion Matrix**:\n",
    "   - **True Positives (TP)**: 8, kasus \"Stroke\" yang benar terdeteksi.\n",
    "   - **True Negatives (TN)**: 950, kasus \"No Stroke\" yang benar terdeteksi.\n",
    "   - **False Positives (FP)**: 22, kasus \"No Stroke\" yang salah terdeteksi sebagai \"Stroke\".\n",
    "   - **False Negatives (FN)**: 42, kasus \"Stroke\" yang salah terdeteksi sebagai \"No Stroke\".\n",
    "\n",
    "4. **Kesimpulan**:\n",
    "   - Model memiliki performa yang sangat baik dalam mendeteksi kasus \"No Stroke\" dengan precision dan recall yang tinggi.\n",
    "   - Namun, model kurang efektif dalam mendeteksi kasus \"Stroke\", dengan precision dan recall yang rendah. Hal ini mungkin disebabkan oleh ketidakseimbangan data, di mana jumlah kasus \"Stroke\" jauh lebih sedikit dibandingkan dengan kasus \"No Stroke\".\n",
    "   - Untuk meningkatkan performa model dalam mendeteksi kasus \"Stroke\", dapat dipertimbangkan untuk menggunakan teknik penyeimbangan data tambahan atau mencoba model lain yang lebih sensitif terhadap kelas minoritas."
   ]
  },
  {
   "cell_type": "code",
   "execution_count": null,
   "metadata": {},
   "outputs": [
    {
     "data": {
      "text/plain": [
       "['../bin/model.pkl']"
      ]
     },
     "execution_count": 66,
     "metadata": {},
     "output_type": "execute_result"
    }
   ],
   "source": [
    "# save model\n",
    "import joblib\n",
    "\n",
    "joblib.dump(best_model, '../bin/model.pkl')"
   ]
  }
 ],
 "metadata": {
  "kernelspec": {
   "display_name": "Python 3",
   "language": "python",
   "name": "python3"
  },
  "language_info": {
   "codemirror_mode": {
    "name": "ipython",
    "version": 3
   },
   "file_extension": ".py",
   "mimetype": "text/x-python",
   "name": "python",
   "nbconvert_exporter": "python",
   "pygments_lexer": "ipython3",
   "version": "3.11.11"
  }
 },
 "nbformat": 4,
 "nbformat_minor": 2
}
